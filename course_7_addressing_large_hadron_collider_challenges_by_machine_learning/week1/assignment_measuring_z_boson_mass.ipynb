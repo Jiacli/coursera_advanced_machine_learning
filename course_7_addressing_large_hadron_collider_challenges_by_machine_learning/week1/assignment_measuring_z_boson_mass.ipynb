{
 "cells": [
  {
   "cell_type": "markdown",
   "metadata": {},
   "source": [
    "# Measuring the Z boson mass\n",
    "\n",
    "\n",
    "Let's look at a sample of $Z$ boson candidates recorded by CMS in 2011 and published at CERN opendata portal. It comes from DoubleMuon dataset with the following selection applied:\n",
    "\n",
    "- Both muons are \"global\" muons\n",
    "- invariant mass sits in range: 60 GeV < $ M_{\\mu\\mu}$ < 120 GeV\n",
    "- |$\\eta$| < 2.1 for both muons\n",
    "- $p_{t}$ > 20 GeV\n",
    "\n",
    "The following columns presented in the CSV file:\n",
    "\n",
    "- `Run`, Event are the run and event numbers, respectively\n",
    "- `pt` is the transverse momentum $p_{t}$ of the muon\n",
    "- `eta` is the pseudorapidity of the muon: $\\eta$\n",
    "- `phi` is the $\\phi$ angle of the muon direction\n",
    "- `Q` is the charge of the muon\n",
    "- `dxy` is the impact parameter in the transverse plane: $d_{xy}$ - how distant is the track from the collision point\n",
    "- `iso` is the track isolation: $I_{track}$ - how many other tracks are there around a given track"
   ]
  },
  {
   "cell_type": "code",
   "execution_count": null,
   "metadata": {},
   "outputs": [],
   "source": [
    "import numpy as np\n",
    "import pandas as pd\n",
    "import matplotlib.pyplot as plt\n",
    "from skopt import gp_minimize\n",
    "%matplotlib inline"
   ]
  },
  {
   "cell_type": "markdown",
   "metadata": {},
   "source": [
    "## Read dataset"
   ]
  },
  {
   "cell_type": "code",
   "execution_count": null,
   "metadata": {},
   "outputs": [],
   "source": [
    "df = pd.read_csv('./Zmumu.csv')\n",
    "df.shape"
   ]
  },
  {
   "cell_type": "markdown",
   "metadata": {},
   "source": [
    "Let's calculate the invariant mass $M$ of the two muons using the formula\n",
    "\n",
    "$M = \\sqrt{2p_{t}^{1}p_{t}^{2}(\\cosh(\\eta_{1}-\\eta_{2}) - \\cos(\\phi_{1}-\\phi_{2}))}$"
   ]
  },
  {
   "cell_type": "code",
   "execution_count": null,
   "metadata": {},
   "outputs": [],
   "source": [
    "df['M'] = np.sqrt(2 * df['pt1'] * df['pt2'] * (np.cosh(df['eta1'] - df['eta2']) - np.cos(df['phi1'] - df['phi2'])))\n",
    "df.head(2)"
   ]
  },
  {
   "cell_type": "markdown",
   "metadata": {},
   "source": [
    "# Model\n",
    "\n",
    "The distribution of the Z boson mass has the form of a normal distribution, in addition there is a noise. The distribution of the noise has an exponential form. Thus, the resulting model, it is a result of a superposition of two distributions - normal and polinomial"
   ]
  },
  {
   "cell_type": "markdown",
   "metadata": {},
   "source": [
    "Let's plot the distribution of Z boson mass"
   ]
  },
  {
   "cell_type": "code",
   "execution_count": null,
   "metadata": {},
   "outputs": [],
   "source": [
    "def plot_mass(mass, bins_count=100):\n",
    "    \"\"\"\n",
    "    Parameters\n",
    "    ----------\n",
    "    \"\"\"\n",
    "    y, x = np.histogram(mass, bins=bins_count, density=False)\n",
    "    err = np.sqrt(y)\n",
    "\n",
    "    fig = plt.figure(figsize=(15,7))\n",
    "    plt.title('Z mass', fontsize=20)\n",
    "    plt.xlabel(\"$m_{\\mu\\mu}$ [GeV]\", fontsize=20)\n",
    "    plt.ylabel(\"Number of events\", fontsize=20)\n",
    "    plt.errorbar(x[:-1], y, yerr=err, fmt='o', color='red', ecolor='grey', capthick=0.5, zorder=1, label=\"data\")\n",
    "    return y, x"
   ]
  },
  {
   "cell_type": "code",
   "execution_count": null,
   "metadata": {},
   "outputs": [],
   "source": [
    "plot_mass(df.M);"
   ]
  },
  {
   "cell_type": "markdown",
   "metadata": {},
   "source": [
    "## Exercise 1. clean up dataset a bit\n",
    "- demand that charge of muons should be opposite\n",
    "- $I_{track}$ < 3 and $d_{xy}$ < 0.2 cm"
   ]
  },
  {
   "cell_type": "code",
   "execution_count": null,
   "metadata": {},
   "outputs": [],
   "source": [
    "df.describe()"
   ]
  },
  {
   "cell_type": "code",
   "execution_count": null,
   "metadata": {},
   "outputs": [],
   "source": [
    "# NOTE: Opposite sign of the charges\n",
    "# NOTE: It looks like the measured charges are not integers\n",
    "df = df.loc[((df.loc[:, 'Q1'] < 0) & (df.loc[:, 'Q2'] > 0)) |\n",
    "            ((df.loc[:, 'Q1'] > 0) & (df.loc[:, 'Q2'] < 0))]\n",
    "# NOTE: dxy is given in cm\n",
    "df = df.loc[(df.loc[:, 'dxy1'].abs() < 0.2) & (df.loc[:, 'dxy2'].abs() < 0.2)]\n",
    "# NOTE: Both tracks should have I_track < 3\n",
    "df = df.loc[(df.loc[:, 'iso1'] < 3) & (df.loc[:, 'iso2'] < 3)]"
   ]
  },
  {
   "cell_type": "code",
   "execution_count": null,
   "metadata": {},
   "outputs": [],
   "source": [
    "df.shape"
   ]
  },
  {
   "cell_type": "code",
   "execution_count": null,
   "metadata": {},
   "outputs": [],
   "source": [
    "plot_mass(df.M);"
   ]
  },
  {
   "cell_type": "markdown",
   "metadata": {},
   "source": [
    "### Let's define a parametrised model\n",
    "it should represent mixture of\n",
    "\n",
    "1. gaussian signal and \n",
    "2. background that for the simplicity we consider to be flat over mass\n",
    "\n",
    "So it gives the following set of parameters:\n",
    "\n",
    "- m0 - center of the Gaussian\n",
    "- sigma - standard deviation of the Gaussian\n",
    "- ampl - height of the peak\n",
    "- bck - height of the background \n",
    "\n",
    "finding those parameters is called _fitting_ model into the data. It will be the goal for the rest of the exercise. For simplicity sake we'll stick with old good binned fit."
   ]
  },
  {
   "cell_type": "code",
   "execution_count": null,
   "metadata": {},
   "outputs": [],
   "source": [
    "def model_predict(params, X):\n",
    "    \"\"\"\n",
    "    \n",
    "    Parameters\n",
    "    ----------\n",
    "    \n",
    "    Returns\n",
    "    -------\n",
    "    \"\"\"\n",
    "    \n",
    "    m0, sigma, ampl, bck = params\n",
    "    \n",
    "    return bck + ampl / (sigma * np.sqrt(2 * np.pi)) * np.exp((-1) * (X - m0)**2 / (2 * sigma**2))"
   ]
  },
  {
   "cell_type": "code",
   "execution_count": null,
   "metadata": {},
   "outputs": [],
   "source": [
    "def model_loss(params, X, y):\n",
    "    \"\"\"\n",
    "    \n",
    "    Parameters\n",
    "    ----------\n",
    "    \n",
    "    Returns\n",
    "    -------\n",
    "    \"\"\"\n",
    "\n",
    "    residuals = y - model_predict(params, X)\n",
    "    \n",
    "    return np.sum(residuals**2) / len(residuals)"
   ]
  },
  {
   "cell_type": "code",
   "execution_count": null,
   "metadata": {},
   "outputs": [],
   "source": [
    "def plot_mass_with_model(params, mass, bins_count=100):\n",
    "    \"\"\"\n",
    "    \n",
    "    Parameters\n",
    "    ----------\n",
    "    \"\"\"\n",
    "    \n",
    "    y, X = plot_mass(mass, bins_count=bins_count)\n",
    "    X = (X[1:] + X[:-1]) / 2\n",
    "    error = model_loss(params, X, y)\n",
    "    plt.plot(X, model_predict(params, X), color='blue', linewidth=3.0, zorder=2, label=\"fit, loss=%.2f\" % error)\n",
    "    plt.legend(fontsize='x-large')"
   ]
  },
  {
   "cell_type": "markdown",
   "metadata": {},
   "source": [
    "## Here you can fit model parameters by hand"
   ]
  },
  {
   "cell_type": "code",
   "execution_count": null,
   "metadata": {},
   "outputs": [],
   "source": [
    "plot_mass_with_model((75, 5, 2300, 20), df.M)"
   ]
  },
  {
   "cell_type": "markdown",
   "metadata": {},
   "source": [
    "## ... but you can do it automatically of course"
   ]
  },
  {
   "cell_type": "markdown",
   "metadata": {},
   "source": [
    "Setting up a scikit optimizer"
   ]
  },
  {
   "cell_type": "code",
   "execution_count": null,
   "metadata": {},
   "outputs": [],
   "source": [
    "from tqdm import tqdm\n",
    "from skopt import Optimizer\n",
    "\n",
    "search_space = [(30.0, 180.0), # m0 range\n",
    "    (0.5, 10.0), # sigma range\n",
    "    (2000, 8000), # amplitude range\n",
    "    (0, 50) # bck range\n",
    "    ]\n",
    "y, X = np.histogram(df.M, bins=120, density=False)\n",
    "X = (X[1:] + X[:-1]) / 2\n",
    "opt = Optimizer(search_space, base_estimator=\"GP\", acq_func=\"EI\", acq_optimizer=\"lbfgs\")"
   ]
  },
  {
   "cell_type": "markdown",
   "metadata": {},
   "source": [
    "Running it for a while. You can re-run this cell several times"
   ]
  },
  {
   "cell_type": "code",
   "execution_count": null,
   "metadata": {},
   "outputs": [],
   "source": [
    "from skopt.utils import create_result\n",
    "for i in tqdm(range(50)):\n",
    "    next_x = opt.ask()\n",
    "    f_val = model_loss(next_x, X, y)\n",
    "    opt.tell(next_x, f_val)\n",
    "    \n",
    "res = create_result(Xi=opt.Xi, yi=opt.yi, space=opt.space,\n",
    "                         rng=opt.rng, models=opt.models)"
   ]
  },
  {
   "cell_type": "markdown",
   "metadata": {},
   "source": [
    "## A bit of search history"
   ]
  },
  {
   "cell_type": "code",
   "execution_count": null,
   "metadata": {},
   "outputs": [],
   "source": [
    "import skopt.plots\n",
    "skopt.plots.plot_convergence(res)\n",
    "print (list(zip([\"m0\", \"sigma\", \"ampl\", \"bck\"], res.x)))"
   ]
  },
  {
   "cell_type": "code",
   "execution_count": null,
   "metadata": {},
   "outputs": [],
   "source": [
    "# even more details on the search space\n",
    "# skopt.plots.plot_objective(res, dimensions=['m0', 'sigma', 'ampl', 'bck'])\n"
   ]
  },
  {
   "cell_type": "markdown",
   "metadata": {},
   "source": [
    "Let's see how well the prediction fits the data"
   ]
  },
  {
   "cell_type": "code",
   "execution_count": null,
   "metadata": {},
   "outputs": [],
   "source": [
    "plot_mass_with_model(res.x, df.M, bins_count=120)"
   ]
  },
  {
   "cell_type": "code",
   "execution_count": null,
   "metadata": {},
   "outputs": [],
   "source": [
    "# token expires every 30 min\n",
    "COURSERA_TOKEN = \"aAja9pbfyRMtibne\"### YOUR TOKEN HERE\n",
    "COURSERA_EMAIL = \"andrey.u@gmail.com\"### YOUR EMAIL HERE"
   ]
  },
  {
   "cell_type": "markdown",
   "metadata": {},
   "source": [
    "## Grader part, do not change, please"
   ]
  },
  {
   "cell_type": "code",
   "execution_count": null,
   "metadata": {},
   "outputs": [],
   "source": [
    "import grading\n",
    "grader = grading.Grader(assignment_key=\"SeMsm2JfEeiyvBKA0wfIgA\", \n",
    "                      all_parts=[\"VI3xu\", \"VuE8x\", \"KzmMV\", \"TwZBF\"])\n"
   ]
  },
  {
   "cell_type": "code",
   "execution_count": null,
   "metadata": {},
   "outputs": [],
   "source": [
    "ans_part1 = round(res.x[0])\n",
    "grader.set_answer(\"VI3xu\", ans_part1)\n",
    "\n",
    "ans_part2 = round(res.x[1], 2)\n",
    "grader.set_answer(\"VuE8x\", ans_part2)\n",
    "\n",
    "ans_part3 = round(res.x[3])\n",
    "grader.set_answer(\"KzmMV\", ans_part3)\n",
    "\n",
    "ans_part4 = round(res.x[2])\n",
    "grader.set_answer(\"TwZBF\", ans_part4)\n",
    "\n",
    "grader.submit(COURSERA_EMAIL, COURSERA_TOKEN)"
   ]
  }
 ],
 "metadata": {
  "anaconda-cloud": {},
  "kernelspec": {
   "display_name": "Python 3",
   "language": "python",
   "name": "python3"
  },
  "language_info": {
   "codemirror_mode": {
    "name": "ipython",
    "version": 3
   },
   "file_extension": ".py",
   "mimetype": "text/x-python",
   "name": "python",
   "nbconvert_exporter": "python",
   "pygments_lexer": "ipython3",
   "version": "3.7.3"
  },
  "toc": {
   "base_numbering": 1,
   "nav_menu": {},
   "number_sections": true,
   "sideBar": true,
   "skip_h1_title": false,
   "title_cell": "Table of Contents",
   "title_sidebar": "Contents",
   "toc_cell": false,
   "toc_position": {},
   "toc_section_display": true,
   "toc_window_display": false
  }
 },
 "nbformat": 4,
 "nbformat_minor": 2
}
