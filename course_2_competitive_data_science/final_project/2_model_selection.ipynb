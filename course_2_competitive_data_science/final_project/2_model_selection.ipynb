{
 "cells": [
  {
   "cell_type": "markdown",
   "metadata": {},
   "source": [
    "# Model selection"
   ]
  },
  {
   "cell_type": "markdown",
   "metadata": {},
   "source": [
    "In this notebook we will do the model selection and predictions."
   ]
  },
  {
   "cell_type": "markdown",
   "metadata": {},
   "source": [
    "# TOC\n",
    "\n",
    "* [Confusion warning](#Confusion-warning)"
   ]
  },
  {
   "cell_type": "markdown",
   "metadata": {},
   "source": [
    "## Loading the data"
   ]
  },
  {
   "cell_type": "code",
   "execution_count": null,
   "metadata": {},
   "outputs": [],
   "source": [
    "%matplotlib notebook\n",
    "import matplotlib.pyplot as plt"
   ]
  },
  {
   "cell_type": "code",
   "execution_count": null,
   "metadata": {},
   "outputs": [],
   "source": [
    "import gc\n",
    "import pickle\n",
    "import numpy as np\n",
    "import pandas as pd\n",
    "import tensorflow as tf\n",
    "from pathlib import Path\n",
    "from sklearn import model_selection\n",
    "from sklearn import metrics"
   ]
  },
  {
   "cell_type": "code",
   "execution_count": null,
   "metadata": {},
   "outputs": [],
   "source": [
    "# Set the random seeds\n",
    "seed = 42\n",
    "np.random.seed(seed)\n",
    "tf.set_random_seed(seed)\n",
    "\n",
    "# Possible more fixes for non-determinism\n",
    "# https://github.com/keras-team/keras/issues/2280#issuecomment-306959926\n",
    "# https://github.com/keras-team/keras/issues/2280#issuecomment-366542480\n",
    "import os\n",
    "from keras import backend as k\n",
    "\n",
    "os.environ['PYTHONHASHSEED'] = '0'\n",
    "sess = tf.Session(graph=tf.get_default_graph())\n",
    "\n",
    "# Limit operation to 1 thread for deterministic results.\n",
    "# NOTE: This will slow down the operation\n",
    "# session_conf = tf.ConfigProto(\n",
    "#     intra_op_parallelism_threads=1,\n",
    "#     inter_op_parallelism_threads=1)\n",
    "# sess = tf.Session(graph=tf.get_default_graph(), config=session_conf)\n",
    "\n",
    "k.set_session(sess)"
   ]
  },
  {
   "cell_type": "code",
   "execution_count": null,
   "metadata": {},
   "outputs": [],
   "source": [
    "generated_data = Path('.').absolute().joinpath('generated_data')\n",
    "\n",
    "target_name = 'item_cnt_month'\n",
    "dt_data = pd.read_hdf(generated_data.joinpath('dt_data.hdf'), key='dt_data')\n",
    "non_dt_data = pd.read_hdf(generated_data.joinpath('non_dt_data.hdf'), key='non_dt_data')"
   ]
  },
  {
   "cell_type": "code",
   "execution_count": null,
   "metadata": {},
   "outputs": [],
   "source": [
    "train_dt = dt_data.loc[dt_data.loc[:, 'date_block_num'] < dt_data.loc[:, 'date_block_num'].max()].copy()\n",
    "target = train_dt.loc[:, [target_name]]\n",
    "train_dt.drop(target_name, axis=1, inplace=True)\n",
    "test_dt = dt_data.loc[dt_data.loc[:, 'date_block_num'] == dt_data.loc[:, 'date_block_num'].max()].copy()\n",
    "test_dt.drop(target_name, axis=1, inplace=True)"
   ]
  },
  {
   "cell_type": "code",
   "execution_count": null,
   "metadata": {},
   "outputs": [],
   "source": [
    "train_dt.head()"
   ]
  },
  {
   "cell_type": "code",
   "execution_count": null,
   "metadata": {},
   "outputs": [],
   "source": [
    "target.head()"
   ]
  },
  {
   "cell_type": "code",
   "execution_count": null,
   "metadata": {},
   "outputs": [],
   "source": [
    "test_dt.head()"
   ]
  },
  {
   "cell_type": "code",
   "execution_count": null,
   "metadata": {},
   "outputs": [],
   "source": [
    "# NOTE: We have normalized 'date_block_num' in non_dt_data, so we should be careful to use this as a filter\n",
    "#       as this is now a float value\n",
    "#       Instead we use the index values\n",
    "train_non_dt = non_dt_data.iloc[:train_dt.shape[0]].copy()\n",
    "train_non_dt.drop(target_name, axis=1, inplace=True)\n",
    "test_non_dt = non_dt_data.iloc[train_dt.shape[0]:].copy()\n",
    "test_non_dt.drop(target_name, axis=1, inplace=True)"
   ]
  },
  {
   "cell_type": "code",
   "execution_count": null,
   "metadata": {},
   "outputs": [],
   "source": [
    "train_non_dt.head()"
   ]
  },
  {
   "cell_type": "code",
   "execution_count": null,
   "metadata": {},
   "outputs": [],
   "source": [
    "test_non_dt.head()"
   ]
  },
  {
   "cell_type": "code",
   "execution_count": null,
   "metadata": {},
   "outputs": [],
   "source": [
    "del dt_data\n",
    "del non_dt_data\n",
    "gc.collect()"
   ]
  },
  {
   "cell_type": "markdown",
   "metadata": {},
   "source": [
    "# Mean prediction"
   ]
  },
  {
   "cell_type": "markdown",
   "metadata": {},
   "source": [
    "Before we start we should do some rudimental model predictions."
   ]
  },
  {
   "cell_type": "markdown",
   "metadata": {},
   "source": [
    "The file `sample_submission.csv.gz` contains the constant prediction `0.5`, and gives the score `1.23646` against the kaggle site.\n",
    "\n",
    "Furthermore we know that the optimal prediction for a constant is a target mean (of the ground truth).\n",
    "Nevertheless, we can probe the leaderboard with target mean of the training set."
   ]
  },
  {
   "cell_type": "code",
   "execution_count": null,
   "metadata": {},
   "outputs": [],
   "source": [
    "mean_prediction = test_dt.loc[:, ['ID']]\n",
    "mean_prediction.loc[:, 'item_cnt_month'] = target.loc[:, 'item_cnt_month'].mean()\n",
    "\n",
    "# Set ID as index\n",
    "mean_prediction.set_index('ID', inplace=True)\n",
    "\n",
    "mean_prediction.to_csv(generated_data.joinpath('mean_prediction.csv'))\n",
    "mean_prediction.head()"
   ]
  },
  {
   "cell_type": "markdown",
   "metadata": {},
   "source": [
    "The mean prediction gave a score of `1.21744`, which is worse than our initial submission.\n",
    "This means that on average, predictions with lower values are preferred over predicitions with higher values.\n",
    "\n",
    "We can in fact use this to probe the leaderboard. As we know that the constant target mean of the ground thruth gives the lowest score, we can check whether `0.2` is a minimum (at least of the public test set)."
   ]
  },
  {
   "cell_type": "code",
   "execution_count": null,
   "metadata": {},
   "outputs": [],
   "source": [
    "prediction_02 = mean_prediction.copy()\n",
    "prediction_02.loc[:, 'item_cnt_month'] = 0.2\n",
    "prediction_02.to_csv(generated_data.joinpath('prediction_02.csv'))\n",
    "prediction_02.head()"
   ]
  },
  {
   "cell_type": "markdown",
   "metadata": {},
   "source": [
    "This degraded the score to `1.22032`.\n",
    "\n",
    "We could continue to probe the leader board like this to find the minimum to get a direction on what our prediction mean should be close to. However, we must bear in mind that we are only probing the public part of the test set, so we must use this technique with care."
   ]
  },
  {
   "cell_type": "markdown",
   "metadata": {},
   "source": [
    "# Make scorer"
   ]
  },
  {
   "cell_type": "markdown",
   "metadata": {},
   "source": [
    "It appears that the RSME is not available as a scorer out of the box, so we define it ourselves.\n",
    "This also give us the oppurtunity to clip the predictions to $[0,20]$"
   ]
  },
  {
   "cell_type": "code",
   "execution_count": null,
   "metadata": {},
   "outputs": [],
   "source": [
    "def rmse(ground_truth, predictions):\n",
    "    \"\"\"\n",
    "    Returns the root mean squared error of the predictions\n",
    "    \n",
    "    The root mean squared error is defined by:\n",
    "    $\\sqrt {\\frac {\\sum _{t=1}^{T}({\\hat {y}}_{t}-y_{t})^{2}}{T}}$\n",
    "    \n",
    "    Parameters\n",
    "    ----------\n",
    "    ground_truth : array, shape (n_samples,)\n",
    "        The correct prediction\n",
    "    prediction : array, shape (n_samples,)\n",
    "        The predictions\n",
    "        \n",
    "    Returns\n",
    "    -------\n",
    "    rmse : float\n",
    "        The root mean squared error\n",
    "    \"\"\"\n",
    "    return np.sqrt(metrics.mean_squared_error(ground_truth, predictions))"
   ]
  },
  {
   "cell_type": "code",
   "execution_count": null,
   "metadata": {},
   "outputs": [],
   "source": [
    "def rmse_clip(ground_truth, predictions):\n",
    "    \"\"\"\n",
    "    Returns the root mean squared error of the predictions\n",
    "    \n",
    "    The root mean squared error is defined by:\n",
    "    $\\sqrt {\\frac {\\sum _{t=1}^{T}({\\hat {y}}_{t}-y_{t})^{2}}{T}}$\n",
    "    \n",
    "    Note\n",
    "    ----\n",
    "    This version clips the predictions to [0, 20]\n",
    "    \n",
    "    Parameters\n",
    "    ----------\n",
    "    ground_truth : array, shape (n_samples,)\n",
    "        The correct prediction\n",
    "    prediction : array, shape (n_samples,)\n",
    "        The predictions\n",
    "        \n",
    "    Returns\n",
    "    -------\n",
    "    rmse : float\n",
    "        The root mean squared error\n",
    "    \"\"\"\n",
    "    return np.sqrt(metrics.mean_squared_error(ground_truth, predictions.clip(0, 20)))"
   ]
  },
  {
   "cell_type": "code",
   "execution_count": null,
   "metadata": {},
   "outputs": [],
   "source": [
    "rmse_scorer = metrics.make_scorer(rmse, greater_is_better=False)\n",
    "rmse_scorer_clip = metrics.make_scorer(rmse_clip, greater_is_better=False)"
   ]
  },
  {
   "cell_type": "markdown",
   "metadata": {},
   "source": [
    "# Confusion warning"
   ]
  },
  {
   "cell_type": "markdown",
   "metadata": {},
   "source": [
    "**NOTE**: The scorer in `GridSearchCV` can be utterly confusing. \n",
    "\n",
    "The scores returned by `GridSearchCV` are negative for scores as `GridSearchCV` by convention tries to maximize its score. This means that loss functions like MSE have to be negated.\n",
    "\n",
    "See [here](https://stackoverflow.com/questions/21050110/sklearn-gridsearchcv-with-pipeline)\n",
    "and [here](https://stackoverflow.com/questions/21443865/scikit-learn-cross-validation-negative-values-with-mean-squared-error).\n",
    "\n",
    "For clarity let's run an experiment.\n",
    "We will fit a linear regression classifier on data that intersects (0, 1) rather than origo.\n",
    "Thus we know that including the intercept is better than not."
   ]
  },
  {
   "cell_type": "code",
   "execution_count": null,
   "metadata": {},
   "outputs": [],
   "source": [
    "from sklearn.linear_model import LinearRegression"
   ]
  },
  {
   "cell_type": "code",
   "execution_count": null,
   "metadata": {},
   "outputs": [],
   "source": [
    "example_train = pd.DataFrame(np.array(range(100)))\n",
    "example_target = pd.DataFrame(np.array(range(1, 101)))\n",
    "\n",
    "parameters = {'fit_intercept': (True, False)}"
   ]
  },
  {
   "cell_type": "code",
   "execution_count": null,
   "metadata": {},
   "outputs": [],
   "source": [
    "rmse_scorer_greater = metrics.make_scorer(rmse, greater_is_better=True)\n",
    "grid_lin_greater = model_selection.GridSearchCV(LinearRegression(), \n",
    "                                                parameters,\n",
    "                                                scoring=rmse_scorer_greater,\n",
    "                                                return_train_score=False)\n",
    "grid_lin_greater.fit(example_train, example_target)\n",
    "greater_best_model = grid_lin_greater.best_estimator_\n",
    "greater_best_score = grid_lin_greater.best_score_\n",
    "greater_mean_score = grid_lin_greater.cv_results_['mean_test_score']"
   ]
  },
  {
   "cell_type": "code",
   "execution_count": null,
   "metadata": {},
   "outputs": [],
   "source": [
    "rmse_scorer_lesser = metrics.make_scorer(rmse, greater_is_better=False)\n",
    "grid_lin_lesser = model_selection.GridSearchCV(LinearRegression(), \n",
    "                                               parameters,\n",
    "                                               scoring=rmse_scorer_lesser,\n",
    "                                               return_train_score=False)\n",
    "grid_lin_lesser.fit(example_train, example_target)\n",
    "lesser_best_model = grid_lin_lesser.best_estimator_\n",
    "lesser_best_score = grid_lin_lesser.best_score_\n",
    "lesser_mean_score = grid_lin_lesser.cv_results_['mean_test_score']"
   ]
  },
  {
   "cell_type": "code",
   "execution_count": null,
   "metadata": {},
   "outputs": [],
   "source": [
    "print(f'Greater is best returns best a score of {greater_best_score:.2f} '\n",
    "      f'of {greater_mean_score} '\n",
    "      f'with the model\\n{greater_best_model}')"
   ]
  },
  {
   "cell_type": "code",
   "execution_count": null,
   "metadata": {},
   "outputs": [],
   "source": [
    "print(f'Lesser is best returns best a score of {lesser_best_score:.2f} '\n",
    "      f'of {lesser_mean_score} '\n",
    "      f'with the model\\n{lesser_best_model}')"
   ]
  },
  {
   "cell_type": "markdown",
   "metadata": {},
   "source": [
    "# Validation generation"
   ]
  },
  {
   "cell_type": "markdown",
   "metadata": {},
   "source": [
    "As we want to predict for the next month, we know that train-test is split by time (we would like to predict for month $34$).\n",
    "\n",
    "In addition, from [0_EDA_raw_data.ipynb](0_EDA_raw_data.ipynb), we saw that different band of item ids were removed (i.e. non-random row numbers were removed in the training set). \n",
    "\n",
    "As a rule of thumb we should mimic the validation in the similar manner. The time component is fairly straigth forward. The question is whether it makes sense to take out bands of item id in addition. This is of course testable, and due to time constraints we will just split by time here.\n",
    "\n",
    "**NOTE**: Training takes quite some time with extensive grid search with using this dataset. It would be optimal to have several splits, but as we a high number of samples we will only use one split here. "
   ]
  },
  {
   "cell_type": "code",
   "execution_count": null,
   "metadata": {},
   "outputs": [],
   "source": [
    "cv_generator = model_selection.TimeSeriesSplit(n_splits=2)"
   ]
  },
  {
   "cell_type": "markdown",
   "metadata": {},
   "source": [
    "# Hyperparameter optimization"
   ]
  },
  {
   "cell_type": "code",
   "execution_count": null,
   "metadata": {},
   "outputs": [],
   "source": [
    "from keras.models import load_model\n",
    "\n",
    "def save_grid(model_grid, file_path):\n",
    "    \"\"\"\n",
    "    Saves the model grid\n",
    "    \n",
    "    Parameters\n",
    "    ----------\n",
    "    model_grid : GridSearchCV\n",
    "        The model grid to save\n",
    "    file_path : Path\n",
    "        The file to load\n",
    "    \"\"\"\n",
    "    \n",
    "    with file_path.open('wb') as f:\n",
    "        pickle.dump(model_grid, f, pickle.HIGHEST_PROTOCOL)\n",
    "        print(f'Saved fitted model grid to {file_path}')\n",
    "    \n",
    "def load_grid(file_path):\n",
    "    \"\"\"\n",
    "    Loads the model grid\n",
    "    \n",
    "    Parameters\n",
    "    ----------\n",
    "    file_path : Path\n",
    "        The file to load\n",
    "        \n",
    "    Returns\n",
    "    -------\n",
    "    model_grid : GridSearchCV\n",
    "        The model grid\n",
    "    \"\"\"\n",
    "    \n",
    "    with file_path.open('rb') as f:\n",
    "        model_grid = pickle.load(f)\n",
    "        print(f'Loaded fitted model grid from {file_path}')\n",
    "    return model_grid\n",
    "        \n",
    "def save_keras_grid(model_grid, file_path):\n",
    "    \"\"\"\n",
    "    Saves the model grid and the best model seperately\n",
    "    \n",
    "    Parameters\n",
    "    ----------\n",
    "    model_grid : GridSearchCV\n",
    "        The model grid to save\n",
    "    file_path : Path\n",
    "        The file to load\n",
    "    \"\"\"\n",
    "    \n",
    "    # Extract the best estimator and reset the value\n",
    "    best_estimator = model_grid.best_estimator_\n",
    "    model_grid.best_estimator_ = None\n",
    "    \n",
    "    # Pickle the grid without the model\n",
    "    with file_path.open('wb') as f:\n",
    "        pickle.dump(model_grid, f, pickle.HIGHEST_PROTOCOL)\n",
    "        print(f'Saved fitted model grid to {file_path}')\n",
    "        \n",
    "    # Save the model seperately\n",
    "    model_name = file_path.name.split('.')[0] + '.h5'\n",
    "    model_path = file_path.parent.joinpath(model_name)\n",
    "    best_estimator.model.save(model_path)\n",
    "    print(f'Saved fitted model grid to {model_path}')\n",
    "    \n",
    "def load_keras_grid(file_path):\n",
    "    \"\"\"\n",
    "    Loads the model and the grid seperately\n",
    "    \n",
    "    Parameters\n",
    "    ----------\n",
    "    model_grid : GridSearchCV\n",
    "        The model grid to save\n",
    "    file_path : Path\n",
    "        The file to load\n",
    "    \"\"\"\n",
    "    \n",
    "    with file_path.open('rb') as f:\n",
    "        model_grid = pickle.load(f)\n",
    "        print(f'Loaded fitted model grid from {file_path}')\n",
    "        \n",
    "    # Load the model seperately\n",
    "    model_name = file_path.name.split('.')[0] + '.h5'\n",
    "    model_path = file_path.parent.joinpath(model_name)\n",
    "    model_grid.best_estimator_ = load_model(model_path, \n",
    "                                            custom_objects={'rmse_keras_clip': rmse_keras_clip})\n",
    "    print(f'Loaded best estimator from {model_path}')\n",
    "    \n",
    "    return model_grid"
   ]
  },
  {
   "cell_type": "code",
   "execution_count": null,
   "metadata": {},
   "outputs": [],
   "source": [
    "def cross_validate_skl(name,\n",
    "                       estimator,\n",
    "                       parameters,\n",
    "                       train,\n",
    "                       target,\n",
    "                       scorer,\n",
    "                       cv_generator,\n",
    "                       save_dir,\n",
    "                       overwrite=False\n",
    "                      ):\n",
    "    \"\"\"\n",
    "    Performs cross validation on a scikit learn estimator.\n",
    "    \n",
    "    The function will search for saved models and load them unless overwrite is True\n",
    "    \n",
    "    Notes\n",
    "    -----\n",
    "    Some models appear to have problem with pickling, \n",
    "    therefore different methods for saving and loading has been implemented\n",
    "    \n",
    "    Parameters\n",
    "    ----------\n",
    "    name : str\n",
    "        Name to add to the model name for saving and loading\n",
    "    estimator : estimator object\n",
    "        The estimator to perform the cross validation on\n",
    "    parameters : dict\n",
    "        Parameters to tune\n",
    "    train : array-like\n",
    "        The training set\n",
    "    target : array-like\n",
    "        The target\n",
    "    scorer : scorer object\n",
    "        The scorer to use in the cross validation\n",
    "    cv_generator : cv-generator object\n",
    "        An object to use for the train-validation split in the cross validation\n",
    "    save_dir : Path or str\n",
    "        Directory to save the model to\n",
    "    overwrite : bool\n",
    "        Will overwrite existing pickled models, overrides the new_model parameter\n",
    "        \n",
    "    Returns\n",
    "    -------\n",
    "    best_estimator : estimator object\n",
    "        The best estimator found by the search\n",
    "    train_score : array\n",
    "        The training score\n",
    "    validation_score : array\n",
    "        The validation score\n",
    "    \"\"\"\n",
    "\n",
    "    model_name = str(estimator.__class__).split('.')[-1][:-2]\n",
    "    file_path = Path(save_dir).joinpath(f'{model_name}_{name}.pkl')\n",
    "    \n",
    "    if file_path.is_file() and not overwrite: \n",
    "        if 'Keras' in file_path.name:\n",
    "            model_grid = load_keras_grid(file_path)\n",
    "        else:\n",
    "            model_grid = load_grid(file_path)\n",
    "    else:\n",
    "        model_grid = model_selection.GridSearchCV(estimator, \n",
    "                                                  parameters,\n",
    "                                                  scoring=rmse_scorer,\n",
    "                                                  cv=cv_generator,\n",
    "                                                  verbose=3,\n",
    "                                                  return_train_score=True)\n",
    "        model_grid.fit(train, target)\n",
    "\n",
    "        if 'Keras' in file_path.name:\n",
    "            save_keras_grid(model_grid, file_path)\n",
    "        else:\n",
    "            save_grid(model_grid, file_path)\n",
    "    \n",
    "    best_estimator = model_grid.best_estimator_\n",
    "    \n",
    "    train_score = model_grid.cv_results_[\"mean_train_score\"]\n",
    "    validation_score = model_grid.cv_results_[\"mean_test_score\"]\n",
    "    \n",
    "    return best_estimator, train_score, validation_score"
   ]
  },
  {
   "cell_type": "code",
   "execution_count": null,
   "metadata": {},
   "outputs": [],
   "source": [
    "def plot_train_validation(train_scores, validation_scores, parameter):\n",
    "    \"\"\"\n",
    "    Plots the training and validation curve as a function of the parameter\n",
    "    \n",
    "    Parameters\n",
    "    ----------\n",
    "    train_scores : array-like\n",
    "        The scores obtained from the training set\n",
    "    validation_scores : array-like\n",
    "        The scores obtained from the validation set\n",
    "    parameters : dict\n",
    "        Dictionary of the tuned parameter on the form\n",
    "        >>> {parameter: np.array}\n",
    "    \"\"\"\n",
    "    \n",
    "    # Select the first key\n",
    "    key = next(iter(parameter.keys()))\n",
    "    parameter_vals = parameter[key]\n",
    "    \n",
    "    fig, ax = plt.subplots()\n",
    "        \n",
    "    ax.plot(parameter_vals, train_scores, label='Train')\n",
    "    ax.plot(parameter_vals, validation_scores, label='Validation')\n",
    "    ax.set_xlabel(key)\n",
    "    ax.set_ylabel('Error')\n",
    "    ax.grid(True)\n",
    "    ax.legend(loc='best', fancybox=True, framealpha=0.5)"
   ]
  },
  {
   "cell_type": "markdown",
   "metadata": {},
   "source": [
    "**NOTE**: Remember to negate the errors when sending them in to plot train validation"
   ]
  },
  {
   "cell_type": "markdown",
   "metadata": {},
   "source": [
    "## Linear regression"
   ]
  },
  {
   "cell_type": "markdown",
   "metadata": {},
   "source": [
    "There are no real hyperparameters to tune in linear regression (other than choosing wheter we should include the intersect or not)."
   ]
  },
  {
   "cell_type": "code",
   "execution_count": null,
   "metadata": {},
   "outputs": [],
   "source": [
    "lin_reg, lin_train_score, lin_validation_score = \\\n",
    "    cross_validate_skl('fit_intercept',\n",
    "                       LinearRegression(), \n",
    "                       {'fit_intercept': (True,)}, \n",
    "                       train_non_dt, \n",
    "                       target, \n",
    "                       rmse_scorer_clip, \n",
    "                       cv_generator, \n",
    "                       generated_data)"
   ]
  },
  {
   "cell_type": "markdown",
   "metadata": {},
   "source": [
    "As explained in the [Confusion warning](#Confusion-warning) section, we need to negate the scores"
   ]
  },
  {
   "cell_type": "code",
   "execution_count": null,
   "metadata": {},
   "outputs": [],
   "source": [
    "print(f'Train score: {-lin_train_score[0]:.3f}')\n",
    "print(f'Validation score: {-lin_validation_score[0]:.3f}')"
   ]
  },
  {
   "cell_type": "markdown",
   "metadata": {},
   "source": [
    "Although the RMSE is quite high, it could be that it can add some information to a stacked data set."
   ]
  },
  {
   "cell_type": "markdown",
   "metadata": {},
   "source": [
    "## KNN"
   ]
  },
  {
   "cell_type": "code",
   "execution_count": null,
   "metadata": {},
   "outputs": [],
   "source": [
    "from sklearn.neighbors import KNeighborsRegressor"
   ]
  },
  {
   "cell_type": "code",
   "execution_count": null,
   "metadata": {},
   "outputs": [],
   "source": [
    "This freezes\n",
    "\n",
    "knn_reg, knn_train_score, knn_validation_score = \\\n",
    "    cross_validate_skl('k_1-4',\n",
    "                       KNeighborsRegressor(), \n",
    "                       {'n_neighbors': (1, 2, 3, 4), 'n_jobs': (-1,)}, \n",
    "                       train_non_dt, \n",
    "                       target, \n",
    "                       rmse_scorer_clip, \n",
    "                       cv_generator, \n",
    "                       generated_data)"
   ]
  },
  {
   "cell_type": "code",
   "execution_count": null,
   "metadata": {},
   "outputs": [],
   "source": [
    "count=0\n",
    "for train_index, val_index in cv_generator.split(train_non_dt, target):\n",
    "    print(count)\n",
    "    count+=1\n",
    "    x_train = train_non_dt.iloc[train_index]\n",
    "    x_val = train_non_dt.iloc[val_index]\n",
    "    y_train = target.iloc[train_index]\n",
    "    y_val = target.iloc[val_index]"
   ]
  },
  {
   "cell_type": "code",
   "execution_count": null,
   "metadata": {},
   "outputs": [],
   "source": [
    "%%time\n",
    "knn_model = KNeighborsRegressor(n_neighbors=1, n_jobs=12)\n",
    "knn_model.fit(x_train, y_train)"
   ]
  },
  {
   "cell_type": "markdown",
   "metadata": {},
   "source": [
    "## Regression tree"
   ]
  },
  {
   "cell_type": "code",
   "execution_count": null,
   "metadata": {},
   "outputs": [],
   "source": [
    "from sklearn.ensemble import ExtraTreesRegressor"
   ]
  },
  {
   "cell_type": "markdown",
   "metadata": {},
   "source": [
    "We would like to benchmark our results with [this notebook](https://www.kaggle.com/the1owl/playing-in-the-sandbox/notebook), which achieves a RMSE aroun $0.27$"
   ]
  },
  {
   "cell_type": "code",
   "execution_count": null,
   "metadata": {},
   "outputs": [],
   "source": [
    "params = {'n_estimators': (25,),\n",
    "          'n_jobs': (-1,),\n",
    "          'max_depth': (15,),\n",
    "          'random_state': (18,),\n",
    "         }\n",
    "\n",
    "xt_reg, xt_train_score, xt_validation_score = \\\n",
    "    cross_validate_skl('bench',\n",
    "                       ExtraTreesRegressor(), \n",
    "                       params, \n",
    "                       train_dt, \n",
    "                       target, \n",
    "                       rmse_scorer_clip, \n",
    "                       cv_generator, \n",
    "                       generated_data)"
   ]
  },
  {
   "cell_type": "code",
   "execution_count": null,
   "metadata": {},
   "outputs": [],
   "source": [
    "xt_train_score"
   ]
  },
  {
   "cell_type": "code",
   "execution_count": null,
   "metadata": {},
   "outputs": [],
   "source": [
    "xt_validation_score"
   ]
  },
  {
   "cell_type": "markdown",
   "metadata": {},
   "source": [
    "## Gradient boosting decision tree"
   ]
  },
  {
   "cell_type": "code",
   "execution_count": null,
   "metadata": {},
   "outputs": [],
   "source": [
    "from xgboost import XGBRegressor"
   ]
  },
  {
   "cell_type": "markdown",
   "metadata": {},
   "source": [
    "As with the other estimators, the `xgboost` estimator has several knobs to turn which can be used to find the optimal estimator.\n",
    "\n",
    "To start with, we have:\n",
    "\n",
    "Better fitting (increase for reducing underfit)\n",
    "* max_depth\n",
    "* subsample\n",
    "* colsample_bytree\n",
    "* colsample_bylevel\n",
    "* eta \n",
    "* num_round\n",
    "\n",
    "Impeeds fitting (increase for reducing overfitting)\n",
    "* min_child_weight\n",
    "* lambda\n",
    "* alpha\n",
    "\n",
    "We will start with the `max_depth` parameter to investigate the performance"
   ]
  },
  {
   "cell_type": "code",
   "execution_count": null,
   "metadata": {},
   "outputs": [],
   "source": [
    "# https://xgboost.readthedocs.io/en/latest/python/python_api.html#module-xgboost.sklearn\n",
    "\n",
    "params = {'max_depth': list(range(7)),\n",
    "          'n_jobs': (-1,),\n",
    "          'random_state': (seed,),\n",
    "         }\n",
    "\n",
    "xg_reg, xg_train_score, xg_validation_score = \\\n",
    "    cross_validate_skl('depth_3-5',\n",
    "                       XGBRegressor(), \n",
    "                       params, \n",
    "                       train_dt, \n",
    "                       target, \n",
    "                       rmse_scorer_clip, \n",
    "                       cv_generator, \n",
    "                       generated_data)"
   ]
  },
  {
   "cell_type": "code",
   "execution_count": null,
   "metadata": {},
   "outputs": [],
   "source": [
    "plot_train_validation(-xg_train_score, -xg_validation_score, {'max_depth': list(range(7))})"
   ]
  },
  {
   "cell_type": "markdown",
   "metadata": {},
   "source": [
    "## Neural network"
   ]
  },
  {
   "cell_type": "code",
   "execution_count": null,
   "metadata": {},
   "outputs": [],
   "source": [
    "from keras.models import Sequential\n",
    "from keras.layers import Dense\n",
    "from keras.layers import Dropout\n",
    "from keras.layers import Activation\n",
    "from keras.wrappers.scikit_learn import KerasRegressor\n",
    "from keras import backend as K"
   ]
  },
  {
   "cell_type": "markdown",
   "metadata": {},
   "source": [
    "**NOTE**: We also make a costum RMSE for keras"
   ]
  },
  {
   "cell_type": "code",
   "execution_count": null,
   "metadata": {},
   "outputs": [],
   "source": [
    "def rmse_keras_clip(y_true, y_pred):\n",
    "    \"\"\"\n",
    "    Returns the root mean squared error of the predictions\n",
    "    \n",
    "    The root mean squared error is defined by:\n",
    "    $\\sqrt {\\frac {\\sum _{t=1}^{T}({\\hat {y}}_{t}-y_{t})^{2}}{T}}$\n",
    "    \n",
    "    Note\n",
    "    ----\n",
    "    This version clips the predictions to [0, 20]\n",
    "    \n",
    "    Parameters\n",
    "    ----------\n",
    "    y_true : array, shape (n_samples,)\n",
    "        The correct prediction (the ground truth)\n",
    "    y_pred : array, shape (n_samples,)\n",
    "        The predictions\n",
    "        \n",
    "    Returns\n",
    "    -------\n",
    "    rmse : float\n",
    "        The root mean squared error\n",
    "    \"\"\"\n",
    "    return K.sqrt(K.mean(K.square(tf.clip_by_value(y_pred, 0, 20) - y_true), axis=-1))"
   ]
  },
  {
   "cell_type": "markdown",
   "metadata": {},
   "source": [
    "**NOTE**: RNNs would probably be the best fit for this task, we will for simplicity use plain old multilayer perceptrons"
   ]
  },
  {
   "cell_type": "code",
   "execution_count": null,
   "metadata": {},
   "outputs": [],
   "source": [
    "def build_mlp(input_dim, optimizer, hidden_layers=1, nodes=32, dropout=0):\n",
    "    \"\"\"\n",
    "    Returns a keras model\n",
    "    \n",
    "    Parameters\n",
    "    ----------\n",
    "    input_dim : int\n",
    "        The input dimension\n",
    "    hidden_layers : int\n",
    "        The number of hidden layers\n",
    "    optimizer : str\n",
    "        The optimizer to use\n",
    "    nodes : int or array-like, shape (hidden_layers)\n",
    "        Nodes for all the layers.\n",
    "        If array-like, each element corresponds to the nodes in the hidden layer\n",
    "        If int, all hidden layers will have the same number of nodes\n",
    "    dropout : float or array-like, shape (hidden_layers)\n",
    "        Dropout for all the layers.\n",
    "        If array-like, each element corresponds to the dropout values after each hidden layer\n",
    "        If int, all hidden layers will have the same dropout value\n",
    "    \"\"\"\n",
    "    \n",
    "    if type(nodes) == int:\n",
    "        nodes = [nodes] * hidden_layers\n",
    "    if type(dropout) == float or type(dropout) == int:\n",
    "        dropout = [dropout] * hidden_layers\n",
    "    \n",
    "    model = Sequential()\n",
    "\n",
    "    model.add(Dense(nodes[0], input_dim=input_dim))\n",
    "    \n",
    "    if len(nodes) > 1:\n",
    "        model.add(Activation('relu'))\n",
    "    \n",
    "    for node, drop in zip(nodes[1:], dropout[:-1]):\n",
    "        model.add(Dropout(drop))\n",
    "        model.add(Dense(node))\n",
    "        \n",
    "        if node != nodes[-1]:\n",
    "            model.add(Activation('relu'))\n",
    "\n",
    "    # Add the final layer\n",
    "    model.add(Dropout(dropout[-1]))\n",
    "    model.add(Dense(1))\n",
    "    # NOTE: We use identity as we are dealing with a regression problem\n",
    "    model.add(Activation('linear'))\n",
    "\n",
    "    model.compile(loss=rmse_keras_clip,\n",
    "                  optimizer=optimizer,\n",
    "                  metrics=[rmse_keras_clip])\n",
    "    \n",
    "    model.summary()\n",
    "\n",
    "    return model"
   ]
  },
  {
   "cell_type": "markdown",
   "metadata": {},
   "source": [
    "For the neural networks, it makes sense to investigate\n",
    "\n",
    "Better fitting (increase for reducing underfit)\n",
    "* Number of neurons per layer\n",
    "* Number of layers\n",
    "* Adam/Adadelta/Adagrad/... (observed to lead to more overfitting)\n",
    "* Batch size\n",
    "\n",
    "Impeeds fitting (increase for reducing overfitting)\n",
    "* L2/L1 for weights\n",
    "* Dropout/Dropconnect\n",
    "* Static dropconnect\n",
    "\n",
    "We start by optimizing one layer"
   ]
  },
  {
   "cell_type": "code",
   "execution_count": null,
   "metadata": {},
   "outputs": [],
   "source": [
    "mlp_model = KerasRegressor(build_fn=build_mlp, verbose=0)"
   ]
  },
  {
   "cell_type": "code",
   "execution_count": null,
   "metadata": {},
   "outputs": [],
   "source": [
    "params = {'input_dim': (train_non_dt.shape[1],),\n",
    "          'optimizer': ('adadelta',),\n",
    "          'hidden_layers' : (1,),\n",
    "          'nodes': (8, 16, 32, 64, 128, 256),\n",
    "          'dropout': (0.3,),\n",
    "          'batch_size': (32,),\n",
    "          'epochs': (10,)\n",
    "         }\n",
    "\n",
    "map_reg, map_train_score, map_validation_score = \\\n",
    "    cross_validate_skl('hl_1_n_16-64_do_03',\n",
    "                       mlp_model, \n",
    "                       params, \n",
    "                       train_non_dt, \n",
    "                       target, \n",
    "                       rmse_scorer, \n",
    "                       cv_generator, \n",
    "                       generated_data, overwrite=True)"
   ]
  },
  {
   "cell_type": "code",
   "execution_count": null,
   "metadata": {},
   "outputs": [],
   "source": [
    "count=0\n",
    "for train_index, val_index in cv_generator.split(train_non_dt, target):\n",
    "    print(count)\n",
    "    count+=1\n",
    "    x_train = train_non_dt.iloc[train_index]\n",
    "    x_val = train_non_dt.iloc[val_index]\n",
    "    y_train = target.iloc[train_index]\n",
    "    y_val = target.iloc[val_index]"
   ]
  },
  {
   "cell_type": "code",
   "execution_count": null,
   "metadata": {},
   "outputs": [],
   "source": [
    "model_8 = build_mlp(train_non_dt.shape[1], 'adadelta', hidden_layers=1, nodes=8, dropout=0.32)\n",
    "model_8.fit(x_train, y_train, validation_data=(x_val, y_val), batch_size=4096, epochs=10)"
   ]
  },
  {
   "cell_type": "code",
   "execution_count": null,
   "metadata": {},
   "outputs": [],
   "source": [
    "model_128 = build_mlp(train_non_dt.shape[1], 'adadelta', hidden_layers=1, nodes=128, dropout=0.32)\n",
    "model_128.fit(x_train, y_train, validation_data=(x_val, y_val), batch_size=4096, epochs=10)"
   ]
  },
  {
   "cell_type": "code",
   "execution_count": null,
   "metadata": {},
   "outputs": [],
   "source": [
    "model_256 = build_mlp(train_non_dt.shape[1], 'adadelta', hidden_layers=1, nodes=256, dropout=0.32)\n",
    "model_256.fit(x_train, y_train, validation_data=(x_val, y_val), batch_size=4096, epochs=10)"
   ]
  },
  {
   "cell_type": "code",
   "execution_count": null,
   "metadata": {},
   "outputs": [],
   "source": [
    "model_256_2 = build_mlp(train_non_dt.shape[1], 'adadelta', hidden_layers=2, nodes=(256, 256), dropout=0.32)\n",
    "model_256_2.fit(x_train, y_train, validation_data=(x_val, y_val), batch_size=4096, epochs=70)"
   ]
  },
  {
   "cell_type": "code",
   "execution_count": null,
   "metadata": {},
   "outputs": [],
   "source": [
    "model_256_3 = build_mlp(train_non_dt.shape[1], 'adadelta', hidden_layers=3, nodes=(256, 256, 256), dropout=0.32)\n",
    "model_256_3.fit(x_train, y_train, validation_data=(x_val, y_val), batch_size=4096, epochs=13)"
   ]
  },
  {
   "cell_type": "markdown",
   "metadata": {},
   "source": [
    "Problems with exploding gradients above these limits"
   ]
  },
  {
   "cell_type": "markdown",
   "metadata": {},
   "source": [
    "## Ensembling"
   ]
  },
  {
   "cell_type": "code",
   "execution_count": null,
   "metadata": {},
   "outputs": [],
   "source": [
    "lin_pred = lin_reg.predict(test)"
   ]
  },
  {
   "cell_type": "markdown",
   "metadata": {},
   "source": [
    "Should be a different notebook?\n",
    "\n",
    "If time: Submit target mean and see what score we get"
   ]
  },
  {
   "cell_type": "markdown",
   "metadata": {},
   "source": [
    "# TODO"
   ]
  },
  {
   "cell_type": "markdown",
   "metadata": {},
   "source": [
    "If mismatch between submission score and local validation score, check if:\n",
    "    \n",
    "* Too little data in public leader board\n",
    "* We overfitted\n",
    "* Chosen the correct splitting strategy\n",
    "* Train/test comes from different distributions"
   ]
  },
  {
   "cell_type": "markdown",
   "metadata": {},
   "source": [
    "Set the random seed"
   ]
  },
  {
   "cell_type": "markdown",
   "metadata": {},
   "source": [
    "Report the submission sample, report score\n",
    "\n",
    "Report score of optimal value (for RSME this is the target mean)"
   ]
  },
  {
   "cell_type": "markdown",
   "metadata": {},
   "source": [
    "Clarity\n",
    "\n",
    "- The clear step-by-step instruction on how to produce the final submit file is provided\n",
    "- Code has comments where it is needed and meaningful function names\n",
    "\n",
    "\n",
    "\n",
    "Validation\n",
    "\n",
    "- Type of public/private split is identified (leaderboard probing)\n",
    "\n",
    "Data leakages\n",
    "\n",
    "- Data is investigated for data leakages and investigation process is described\n",
    "- Found data leakages are utilized\n",
    "\n",
    "Metrics optimization\n",
    "\n",
    "- Correct metric is optimized\n",
    "\n",
    "Advanced Features I: mean encodings\n",
    "\n",
    "- Mean-encoding is applied\n",
    "- Mean-encoding is set up correctly, i.e. KFold or expanding scheme are utilized correctly\n",
    "\n",
    "Advanced Features II\n",
    "\n",
    "- At least one feature from this topic is introduced\n",
    "\n",
    "Hyperparameter tuning\n",
    "\n",
    "- Parameters of models are roughly optimal\n",
    "\n",
    "Ensembles\n",
    "\n",
    "- Ensembling is utilized (linear combination counts)\n",
    "- Validation with ensembling scheme is set up correctly, i.e. KFold or Holdout is utilized\n",
    "- Models from different classes are utilized (at least two from the following: KNN, linear models, RF, GBDT, NN)"
   ]
  },
  {
   "cell_type": "markdown",
   "metadata": {},
   "source": [
    "Clarity\n",
    "\n",
    "- The clear step-by-step instruction on how to produce the final submit file is provided\n",
    "- Code has comments where it is needed and meaningful function names\n",
    "\n",
    "Feature preprocessing and generation with respect to models\n",
    "\n",
    "- Several simple features are generated\n",
    "- For non-tree-based models preprocessing is used or the absence of it is explained\n",
    "- Feature extraction from text and images\n",
    "\n",
    "Features from text are extracted\n",
    "\n",
    "- Special preprocessings for text are utilized (TF-IDF, stemming, levenshtening...)\n",
    "\n",
    "EDA\n",
    "\n",
    "- Several interesting observations about data are discovered and explained\n",
    "- Target distribution is visualized, time trend is assessed\n",
    "\n",
    "Validation\n",
    "\n",
    "- Type of train/test split is identified and used for validation\n",
    "- Type of public/private split is identified\n",
    "\n",
    "Data leakages\n",
    "\n",
    "- Data is investigated for data leakages and investigation process is described\n",
    "- Found data leakages are utilized\n",
    "\n",
    "Metrics optimization\n",
    "\n",
    "- Correct metric is optimized\n",
    "\n",
    "Advanced Features I: mean encodings\n",
    "\n",
    "- Mean-encoding is applied\n",
    "- Mean-encoding is set up correctly, i.e. KFold or expanding scheme are utilized correctly\n",
    "\n",
    "Advanced Features II\n",
    "\n",
    "- At least one feature from this topic is introduced\n",
    "\n",
    "Hyperparameter tuning\n",
    "\n",
    "- Parameters of models are roughly optimal\n",
    "\n",
    "Ensembles\n",
    "\n",
    "- Ensembling is utilized (linear combination counts)\n",
    "- Validation with ensembling scheme is set up correctly, i.e. KFold or Holdout is utilized\n",
    "- Models from different classes are utilized (at least two from the following: KNN, linear models, RF, GBDT, NN)"
   ]
  }
 ],
 "metadata": {
  "kernelspec": {
   "display_name": "Python 3",
   "language": "python",
   "name": "python3"
  },
  "language_info": {
   "codemirror_mode": {
    "name": "ipython",
    "version": 3
   },
   "file_extension": ".py",
   "mimetype": "text/x-python",
   "name": "python",
   "nbconvert_exporter": "python",
   "pygments_lexer": "ipython3",
   "version": "3.6.6"
  }
 },
 "nbformat": 4,
 "nbformat_minor": 2
}
