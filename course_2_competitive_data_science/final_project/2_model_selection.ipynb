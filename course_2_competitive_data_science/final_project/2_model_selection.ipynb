{
 "cells": [
  {
   "cell_type": "markdown",
   "metadata": {},
   "source": [
    "# Model selection"
   ]
  },
  {
   "cell_type": "markdown",
   "metadata": {},
   "source": [
    "Set the random seed"
   ]
  },
  {
   "cell_type": "markdown",
   "metadata": {},
   "source": [
    "Report the submission sample, report score\n",
    "\n",
    "Report score of optimal value (for RSME this is the target mean)"
   ]
  },
  {
   "cell_type": "markdown",
   "metadata": {},
   "source": [
    "See that train and test is split by time (33rd month) and id (EDA showed that band of item ids were removed, i.e. it is not by random row number). As a rule of thumb we should mimic the validation in the similar manner. The time component is fairly straigth forward. The question is whether it makes sense to take out bands of item id in addition. This is of course testable"
   ]
  },
  {
   "cell_type": "markdown",
   "metadata": {},
   "source": [
    "## Loading the data"
   ]
  },
  {
   "cell_type": "markdown",
   "metadata": {},
   "source": [
    "### Downcasting"
   ]
  },
  {
   "cell_type": "code",
   "execution_count": null,
   "metadata": {},
   "outputs": [],
   "source": [
    "def downcast_dtypes(df):\n",
    "    '''\n",
    "        Changes column types in the dataframe: \n",
    "                \n",
    "                `float64` type to `float32`\n",
    "                `int64`   type to `int32`\n",
    "    '''\n",
    "    \n",
    "    # Select columns to downcast\n",
    "    float_cols = [c for c in df if df[c].dtype == \"float64\"]\n",
    "    int_cols =   [c for c in df if df[c].dtype == \"int64\"]\n",
    "    \n",
    "    # Downcast\n",
    "    df[float_cols] = df[float_cols].astype(np.float32)\n",
    "    df[int_cols]   = df[int_cols].astype(np.int32)\n",
    "    \n",
    "    return df"
   ]
  },
  {
   "cell_type": "markdown",
   "metadata": {},
   "source": [
    "## Validation generation"
   ]
  },
  {
   "cell_type": "markdown",
   "metadata": {},
   "source": [
    "## Hyperparameter optimization"
   ]
  },
  {
   "cell_type": "markdown",
   "metadata": {},
   "source": [
    "### Linear regression"
   ]
  },
  {
   "cell_type": "markdown",
   "metadata": {},
   "source": [
    "### KNN"
   ]
  },
  {
   "cell_type": "markdown",
   "metadata": {},
   "source": [
    "### Gradient boosting decision tree"
   ]
  },
  {
   "cell_type": "markdown",
   "metadata": {},
   "source": [
    "Better fitting (increase for reducing underfit)\n",
    "* max_depth\n",
    "* subsample\n",
    "* colsample_bytree, colsample_bylevel\n",
    "* eta num_round\n",
    "\n",
    "Impeeds fitting (increase for reducing overfitting)\n",
    "* min_child_weight, lambda, alpha\n",
    "\n",
    "Remember to set the seed"
   ]
  },
  {
   "cell_type": "markdown",
   "metadata": {},
   "source": [
    "### Neural network"
   ]
  },
  {
   "cell_type": "markdown",
   "metadata": {},
   "source": [
    "Better fitting (increase for reducing underfit)\n",
    "* Number of neurons per layer\n",
    "* Number of layers\n",
    "* Adam/Adadelta/Adagrad/... (observed to lead to more overfitting)\n",
    "* Batch size\n",
    "\n",
    "\n",
    "Impeeds fitting (increase for reducing overfitting)\n",
    "* L2/L1 for weights\n",
    "* Dropout/Dropconnect\n",
    "* Static dropconnect"
   ]
  },
  {
   "cell_type": "markdown",
   "metadata": {},
   "source": [
    "## Ensembling"
   ]
  },
  {
   "cell_type": "markdown",
   "metadata": {},
   "source": [
    "Should be a different notebook?\n",
    "\n",
    "If time: Submit target mean and see what score we get"
   ]
  },
  {
   "cell_type": "markdown",
   "metadata": {},
   "source": [
    "Clarity\n",
    "\n",
    "- The clear step-by-step instruction on how to produce the final submit file is provided\n",
    "- Code has comments where it is needed and meaningful function names\n",
    "\n",
    "\n",
    "\n",
    "Validation\n",
    "\n",
    "- Type of public/private split is identified (leaderboard probing)\n",
    "\n",
    "Data leakages\n",
    "\n",
    "- Data is investigated for data leakages and investigation process is described\n",
    "- Found data leakages are utilized\n",
    "\n",
    "Metrics optimization\n",
    "\n",
    "- Correct metric is optimized\n",
    "\n",
    "Advanced Features I: mean encodings\n",
    "\n",
    "- Mean-encoding is applied\n",
    "- Mean-encoding is set up correctly, i.e. KFold or expanding scheme are utilized correctly\n",
    "\n",
    "Advanced Features II\n",
    "\n",
    "- At least one feature from this topic is introduced\n",
    "\n",
    "Hyperparameter tuning\n",
    "\n",
    "- Parameters of models are roughly optimal\n",
    "\n",
    "Ensembles\n",
    "\n",
    "- Ensembling is utilized (linear combination counts)\n",
    "- Validation with ensembling scheme is set up correctly, i.e. KFold or Holdout is utilized\n",
    "- Models from different classes are utilized (at least two from the following: KNN, linear models, RF, GBDT, NN)"
   ]
  },
  {
   "cell_type": "markdown",
   "metadata": {},
   "source": [
    "Clarity\n",
    "\n",
    "- The clear step-by-step instruction on how to produce the final submit file is provided\n",
    "- Code has comments where it is needed and meaningful function names\n",
    "\n",
    "Feature preprocessing and generation with respect to models\n",
    "\n",
    "- Several simple features are generated\n",
    "- For non-tree-based models preprocessing is used or the absence of it is explained\n",
    "- Feature extraction from text and images\n",
    "\n",
    "Features from text are extracted\n",
    "\n",
    "- Special preprocessings for text are utilized (TF-IDF, stemming, levenshtening...)\n",
    "\n",
    "EDA\n",
    "\n",
    "- Several interesting observations about data are discovered and explained\n",
    "- Target distribution is visualized, time trend is assessed\n",
    "\n",
    "Validation\n",
    "\n",
    "- Type of train/test split is identified and used for validation\n",
    "- Type of public/private split is identified\n",
    "\n",
    "Data leakages\n",
    "\n",
    "- Data is investigated for data leakages and investigation process is described\n",
    "- Found data leakages are utilized\n",
    "\n",
    "Metrics optimization\n",
    "\n",
    "- Correct metric is optimized\n",
    "\n",
    "Advanced Features I: mean encodings\n",
    "\n",
    "- Mean-encoding is applied\n",
    "- Mean-encoding is set up correctly, i.e. KFold or expanding scheme are utilized correctly\n",
    "\n",
    "Advanced Features II\n",
    "\n",
    "- At least one feature from this topic is introduced\n",
    "\n",
    "Hyperparameter tuning\n",
    "\n",
    "- Parameters of models are roughly optimal\n",
    "\n",
    "Ensembles\n",
    "\n",
    "- Ensembling is utilized (linear combination counts)\n",
    "- Validation with ensembling scheme is set up correctly, i.e. KFold or Holdout is utilized\n",
    "- Models from different classes are utilized (at least two from the following: KNN, linear models, RF, GBDT, NN)"
   ]
  }
 ],
 "metadata": {
  "kernelspec": {
   "display_name": "Python 3",
   "language": "python",
   "name": "python3"
  },
  "language_info": {
   "codemirror_mode": {
    "name": "ipython",
    "version": 3
   },
   "file_extension": ".py",
   "mimetype": "text/x-python",
   "name": "python",
   "nbconvert_exporter": "python",
   "pygments_lexer": "ipython3",
   "version": "3.6.6"
  }
 },
 "nbformat": 4,
 "nbformat_minor": 2
}
