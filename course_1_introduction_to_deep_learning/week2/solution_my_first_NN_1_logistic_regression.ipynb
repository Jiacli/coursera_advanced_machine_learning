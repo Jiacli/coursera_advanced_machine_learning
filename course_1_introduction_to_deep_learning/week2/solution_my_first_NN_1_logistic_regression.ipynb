{
 "cells": [
  {
   "cell_type": "markdown",
   "metadata": {},
   "source": [
    "# Solution to my first NN: Logist regression\n",
    "\n",
    "We are here following the pipeline suggested from the [assignment](https://www.coursera.org/learn/intro-to-deep-learning/peer/0AgYP/my1stnn)."
   ]
  },
  {
   "cell_type": "code",
   "execution_count": null,
   "metadata": {},
   "outputs": [],
   "source": [
    "%matplotlib notebook\n",
    "\n",
    "import matplotlib.pyplot as plt\n",
    "import numpy as np\n",
    "import tensorflow as tf\n",
    "\n",
    "from preprocessed_mnist import load_dataset"
   ]
  },
  {
   "cell_type": "code",
   "execution_count": null,
   "metadata": {},
   "outputs": [],
   "source": [
    "# Random seed\n",
    "np.random.seed(42)"
   ]
  },
  {
   "cell_type": "markdown",
   "metadata": {},
   "source": [
    "* Begin with logistic regression from the previous assignment to classify some number against others (e.g. zero vs nonzero)"
   ]
  },
  {
   "cell_type": "markdown",
   "metadata": {},
   "source": [
    "From `preprocessed_mnist` the data has already been:\n",
    "\n",
    "1. Been normalized (note that the images only have one channel)\n",
    "2. Split into train, validation and test"
   ]
  },
  {
   "cell_type": "markdown",
   "metadata": {},
   "source": [
    "## Logistic regression separating zeros from non-zeros"
   ]
  },
  {
   "cell_type": "markdown",
   "metadata": {},
   "source": [
    "### Data preparation"
   ]
  },
  {
   "cell_type": "code",
   "execution_count": null,
   "metadata": {},
   "outputs": [],
   "source": [
    "# Load the dataset\n",
    "X_train, y_train, X_val, y_val, X_test, y_test = load_dataset()"
   ]
  },
  {
   "cell_type": "code",
   "execution_count": null,
   "metadata": {},
   "outputs": [],
   "source": [
    "# Parameters\n",
    "small_number = 1e-3\n",
    "batch_size = 1000\n",
    "epoch = 15"
   ]
  },
  {
   "cell_type": "code",
   "execution_count": null,
   "metadata": {},
   "outputs": [],
   "source": [
    "def reshaper_3d_to_2d(var):\n",
    "    \"\"\"\n",
    "    Reshapes a 3-d array to a 2-d array, collapsing the two last dimensions\n",
    "    \n",
    "    Parameters\n",
    "    ----------\n",
    "    var : array, shape (samples, image-rows, image-colums)\n",
    "        The variable to reshape\n",
    "        \n",
    "    Returns\n",
    "    -------\n",
    "    reshaped : array, shape (samples, image-rows, image-colums)\n",
    "        The reshaped variable    \n",
    "    \"\"\"\n",
    "    \n",
    "    reshaped = var.reshape(var.shape[0], var.shape[1]*var.shape[2])\n",
    "    \n",
    "    return reshaped"
   ]
  },
  {
   "cell_type": "code",
   "execution_count": null,
   "metadata": {},
   "outputs": [],
   "source": [
    "def cast_non_zero_to_one(var):\n",
    "    \"\"\"\n",
    "    Cast non-zero values to one\n",
    "    \n",
    "    The input variable will be copied prior to transformation\n",
    "    \n",
    "    Parameters\n",
    "    ----------\n",
    "    var : array-like\n",
    "        The variable to make the transformation on\n",
    "    \n",
    "    Returns\n",
    "    -------\n",
    "    binary : array-like\n",
    "        The transformed variable\n",
    "    \"\"\"\n",
    "    \n",
    "    binary = var.copy()\n",
    "    \n",
    "    binary[binary != 0] = 1\n",
    "    \n",
    "    return binary"
   ]
  },
  {
   "cell_type": "code",
   "execution_count": null,
   "metadata": {},
   "outputs": [],
   "source": [
    "X_train_r = reshaper_3d_to_2d(X_train)\n",
    "X_val_r = reshaper_3d_to_2d(X_val)\n",
    "X_test_r = reshaper_3d_to_2d(X_test)"
   ]
  },
  {
   "cell_type": "code",
   "execution_count": null,
   "metadata": {},
   "outputs": [],
   "source": [
    "# Casting y to matrices (makes matmul possible)\n",
    "y_train = y_train[:, np.newaxis]\n",
    "y_val = y_val[:, np.newaxis]\n",
    "y_test = y_test[:, np.newaxis]"
   ]
  },
  {
   "cell_type": "code",
   "execution_count": null,
   "metadata": {},
   "outputs": [],
   "source": [
    "y_train_b = cast_non_zero_to_one(y_train)\n",
    "y_val_b = cast_non_zero_to_one(y_val)\n",
    "y_test_b = cast_non_zero_to_one(y_test)"
   ]
  },
  {
   "cell_type": "code",
   "execution_count": null,
   "metadata": {},
   "outputs": [],
   "source": [
    "n_training_ex = X_train_r.shape[0]\n",
    "n_features = X_train_r.shape[1]\n",
    "n_output = 1"
   ]
  },
  {
   "cell_type": "markdown",
   "metadata": {},
   "source": [
    "### Tensorflow preparation"
   ]
  },
  {
   "cell_type": "markdown",
   "metadata": {},
   "source": [
    "#### How can a network take in all training examples at once?\n",
    "* When predicting one example, we are essential sending in a row-vector (`1 x n`-matrix)\n",
    "* When training several examples, we are sending in several one-vectors (`m x n`-matix)\n",
    "* The loss will still be a scalar as the `input_y` will be `m x 1`-dimensional, where we will take an inner product with `predicted_y`, which is also `m x 1` dimensional"
   ]
  },
  {
   "cell_type": "code",
   "execution_count": null,
   "metadata": {},
   "outputs": [],
   "source": [
    "# The first dimension is None, as we would like to vary the number of input examples\n",
    "\n",
    "input_X = tf.placeholder(\"float32\", shape=(None, n_features), name=\"input_x\")\n",
    "input_y = tf.placeholder(\"float32\", shape=(None, n_output), name=\"input_y\")\n",
    "\n",
    "identity = tf.placeholder(\"float32\", shape=(None, 1), name='identity')"
   ]
  },
  {
   "cell_type": "markdown",
   "metadata": {},
   "source": [
    "We will use a notation similar to Michael Nielsens [notation](http://neuralnetworksanddeeplearning.com/chap2.html), but altered to be consistent with pandas [tidy data](https://github.com/pandas-dev/pandas/blob/master/doc/cheatsheet/Pandas_Cheat_Sheet.pdf) \n",
    "\n",
    "$X_{\\text{e}, \\text{f}}W^{\\text{l}}_{\\text{ f}, \\text{t}} + \\mathbb{I}_{\\text{e}, 1}b_{1, \\text{t}}$\n",
    "\n",
    "* `e` - number of examples\n",
    "* `l` - layer\n",
    "* `f` - from node (or activation) id\n",
    "* `t` - to node id\n",
    "\n",
    "Each `to node id` is a sum of all `from node (or activation) id`.\n",
    "This means that the rows are trained seperately, and only depends on the `to node id`"
   ]
  },
  {
   "cell_type": "code",
   "execution_count": null,
   "metadata": {},
   "outputs": [],
   "source": [
    "def get_w_and_b(n_to_nodes, n_from_nodes):\n",
    "    \"\"\"\n",
    "    Returns weights and biases based on the input dimensions\n",
    "    \n",
    "    Parameters\n",
    "    ----------\n",
    "    n_to_nodes : int\n",
    "        Number of nodes in the next layer (t in notation above)\n",
    "    n_from_nodes : int\n",
    "        Number of nodes in the previous layer (f in notation above)\n",
    "        \n",
    "    Returns\n",
    "    -------\n",
    "    W : Variable, shape (n_from_nodes, n_to_nodes)\n",
    "        The weights variable\n",
    "    b : Variable, shape (n_training_ex, n_to_nodes)\n",
    "        The bias variable\n",
    "    \"\"\"\n",
    "     \n",
    "    # We initialize with random weights to break symmetry\n",
    "    W = tf.Variable(initial_value=np.random.randn(n_from_nodes, n_to_nodes)*small_number,\n",
    "                    name=\"weights\",\n",
    "                    dtype='float32')\n",
    "\n",
    "    b = tf.Variable(initial_value=np.random.randn(1, n_to_nodes)*small_number,\n",
    "                    name=\"bias\",\n",
    "                    dtype='float32')\n",
    "    \n",
    "    return W, b"
   ]
  },
  {
   "cell_type": "code",
   "execution_count": null,
   "metadata": {},
   "outputs": [],
   "source": [
    "W, b = get_w_and_b(n_to_nodes=1, n_from_nodes=n_features)"
   ]
  },
  {
   "cell_type": "markdown",
   "metadata": {},
   "source": [
    "### The model code"
   ]
  },
  {
   "cell_type": "code",
   "execution_count": null,
   "metadata": {},
   "outputs": [],
   "source": [
    "predicted_y = tf.nn.sigmoid(input_X @ W + identity @ b)\n",
    "# Instead of using matrix-transpose followed by a matrix-multiplication, we do a reduce_mean operation\n",
    "# NOTE: When optimizing, the 1/m factor when taking reduce_mean contra taking matmul will not change the \n",
    "#       location of the minima \n",
    "loss = tf.reduce_mean(- input_y * tf.log(predicted_y) - (1-input_y) * tf.log(1 - predicted_y))\n",
    "optimizer = tf.train.MomentumOptimizer(0.01, 0.5).minimize(loss)"
   ]
  },
  {
   "cell_type": "code",
   "execution_count": null,
   "metadata": {},
   "outputs": [],
   "source": [
    "def calc_f_score(pred, true):\n",
    "    \"\"\"\n",
    "    Calculates the f-score\n",
    "    \n",
    "    Notes\n",
    "    -----\n",
    "    Assuming here that 0 is the positive value (as we are distinguishing zeros from non-zeros)\n",
    "    \n",
    "    Parameters\n",
    "    ----------\n",
    "    pred : array-like\n",
    "        The predicted values\n",
    "    true : array-like\n",
    "        The acutal values\n",
    "        \n",
    "    Returns\n",
    "    -------\n",
    "    f_score : float\n",
    "        The f-score\n",
    "    \"\"\"\n",
    "    \n",
    "    tp = np.sum(np.logical_and(pred == 0, true == 0))\n",
    "    fp = np.sum(np.logical_and(pred == 0, true != 0))\n",
    "    fn = np.sum(np.logical_and(pred != 0, true == 0))\n",
    "    \n",
    "    precision = tp/(tp+fp)\n",
    "    recall = tp/(tp+fn)\n",
    "    \n",
    "    f_score = 2*precision*recall/(precision + recall)\n",
    "    \n",
    "    return f_score"
   ]
  },
  {
   "cell_type": "code",
   "execution_count": null,
   "metadata": {},
   "outputs": [],
   "source": [
    "class Batch(object):\n",
    "    \"\"\"\n",
    "    Class to generate batches without replacement.\n",
    "    \n",
    "    Inspired by [0].\n",
    "    \n",
    "    References\n",
    "    ----------\n",
    "    [0] https://medium.com/wwblog/getting-started-with-tensorflow-a65bc824141b\n",
    "    \"\"\"\n",
    "    \n",
    "    def __init__(self, X, y, batch_size):\n",
    "        \"\"\"\n",
    "        Set the member data and generates the indices\n",
    "        \n",
    "        Parameters\n",
    "        ----------\n",
    "        X : array, shape (n_examples, n_features)\n",
    "            The data matrix\n",
    "        y : array, shape (n_examples, 1)\n",
    "            The ground truth\n",
    "        \"\"\"\n",
    "        self.batch_size = batch_size\n",
    "        self.X = X\n",
    "        self.y = y\n",
    "        \n",
    "        size = y.shape[0]\n",
    "        \n",
    "        if batch_size > size:\n",
    "            print('batch_size > size, setting batch_size = size')\n",
    "            self.batch_size = size\n",
    "        \n",
    "        # Random shuffling of the indices\n",
    "        self.indices = np.array(range(size))\n",
    "        np.random.shuffle(self.indices)\n",
    "        \n",
    "        self.get_next_indices = self.indices_generator()\n",
    "        \n",
    "    def indices_generator(self):\n",
    "        \"\"\"\n",
    "        Generator which returns indices\n",
    "        \"\"\"\n",
    "        \n",
    "        for i in range(self.indices.shape[0] // self.batch_size):\n",
    "            yield self.indices[i*self.batch_size:i*self.batch_size + self.batch_size]       \n",
    "    \n",
    "    def get_batch(self):\n",
    "        \"\"\"\n",
    "        Rerurns a batch\n",
    "        \n",
    "        Returns\n",
    "        -------\n",
    "        X : array, shape (batch_size, n_features)\n",
    "            The data matrix\n",
    "        y : array, shape (batch_size, 1)\n",
    "            The ground truth\n",
    "        \"\"\"\n",
    "        \n",
    "        try:\n",
    "            indices = next(self.get_next_indices)\n",
    "        except StopIteration:\n",
    "            # Replenish exhausted generator\n",
    "            self.get_next_indices = self.indices_generator()\n",
    "            indices = next(self.get_next_indices)\n",
    "\n",
    "        X = self.X[indices, :]\n",
    "        y = self.y[indices, :]\n",
    "        return X, y"
   ]
  },
  {
   "cell_type": "markdown",
   "metadata": {},
   "source": [
    "Calculate iteration"
   ]
  },
  {
   "cell_type": "code",
   "execution_count": null,
   "metadata": {},
   "outputs": [],
   "source": [
    "if batch_size > n_training_ex:\n",
    "    batch_size = n_training_ex\n",
    "\n",
    "iter_per_epoch = n_training_ex // batch_size\n",
    "total_iter = iter_per_epoch * epoch"
   ]
  },
  {
   "cell_type": "markdown",
   "metadata": {},
   "source": [
    "Initialize plotting variables"
   ]
  },
  {
   "cell_type": "code",
   "execution_count": null,
   "metadata": {},
   "outputs": [],
   "source": [
    "training_loss = np.zeros(total_iter)\n",
    "validation_loss = np.zeros(total_iter)\n",
    "test_loss = np.zeros(total_iter)\n",
    "\n",
    "iterations = np.array(range(total_iter), dtype=int)"
   ]
  },
  {
   "cell_type": "code",
   "execution_count": null,
   "metadata": {},
   "outputs": [],
   "source": [
    "sess = tf.Session()\n",
    "\n",
    "# The variables must be initialized\n",
    "# https://stackoverflow.com/questions/44299666/when-global-variables-initializer-is-actually-required\n",
    "sess.run(tf.global_variables_initializer())\n",
    "\n",
    "batch = Batch(X_train_r, y_train_b, batch_size)"
   ]
  },
  {
   "cell_type": "markdown",
   "metadata": {},
   "source": [
    "### Training"
   ]
  },
  {
   "cell_type": "markdown",
   "metadata": {},
   "source": [
    "**NOTE**: Calculating the loss is expensive, and is not usually done for each iteration (rather for each epoch, or only for the training batch)"
   ]
  },
  {
   "cell_type": "code",
   "execution_count": null,
   "metadata": {},
   "outputs": [],
   "source": [
    "for i in iterations:\n",
    "    print(f'Iteration: {i+1}/{total_iter}', end='\\r')\n",
    "    X, y = batch.get_batch()\n",
    "    \n",
    "    sess.run(optimizer, \n",
    "             {input_X: X,\n",
    "              input_y: y, \n",
    "              identity: np.ones((y.shape[0], 1))})\n",
    "    \n",
    "    training_loss[i] = sess.run(loss, \n",
    "                                {input_X: X_train_r,\n",
    "                                 input_y: y_train_b,\n",
    "                                 identity: np.ones((y_train_b.shape[0], 1))})\n",
    "    validation_loss[i] = sess.run(loss, \n",
    "                                  {input_X: X_val_r, \n",
    "                                   input_y: y_val_b, \n",
    "                                   identity: np.ones((y_val_b.shape[0], 1))})\n",
    "    test_loss[i] = sess.run(loss,\n",
    "                            {input_X: X_test_r, \n",
    "                             input_y: y_test_b,\n",
    "                             identity: np.ones((y_test_b.shape[0], 1))})"
   ]
  },
  {
   "cell_type": "markdown",
   "metadata": {},
   "source": [
    "### Prediction"
   ]
  },
  {
   "cell_type": "code",
   "execution_count": null,
   "metadata": {},
   "outputs": [],
   "source": [
    "y_pred_train = sess.run(predicted_y, \n",
    "                     {input_X: X_train_r, \n",
    "                      identity: np.ones((y_train_b.shape[0], 1))})\n",
    "y_pred_validation = sess.run(predicted_y, \n",
    "                          {input_X: X_val_r, \n",
    "                           identity: np.ones((y_val_b.shape[0], 1))})\n",
    "y_pred_test = sess.run(predicted_y, \n",
    "                    {input_X: X_test_r, \n",
    "                     identity: np.ones((y_test_b.shape[0], 1))})"
   ]
  },
  {
   "cell_type": "code",
   "execution_count": null,
   "metadata": {},
   "outputs": [],
   "source": [
    "sess.close()"
   ]
  },
  {
   "cell_type": "code",
   "execution_count": null,
   "metadata": {
    "scrolled": true
   },
   "outputs": [],
   "source": [
    "# Casting predictions\n",
    "y_pred_train_b = (y_pred_train > 0.5).astype(int)\n",
    "y_pred_validation_b = (y_pred_validation > 0.5).astype(int)\n",
    "y_pred_test_b = (y_pred_test > 0.5).astype(int)"
   ]
  },
  {
   "cell_type": "markdown",
   "metadata": {},
   "source": [
    "### Plotting loss"
   ]
  },
  {
   "cell_type": "code",
   "execution_count": null,
   "metadata": {},
   "outputs": [],
   "source": [
    "# Calc f-score\n",
    "print('Calcualting f-scores')\n",
    "f_score_train = calc_f_score(y_pred_train_b, y_train_b)\n",
    "f_score_validation = calc_f_score(y_pred_validation_b, y_val_b)\n",
    "f_score_test = calc_f_score(y_pred_test_b, y_test_b)"
   ]
  },
  {
   "cell_type": "code",
   "execution_count": null,
   "metadata": {},
   "outputs": [],
   "source": [
    "fig, ax = plt.subplots()\n",
    "\n",
    "ax.plot(iterations, training_loss, label=f'Train, f-score={f_score_train:.2}')\n",
    "ax.plot(iterations, validation_loss, label=f'Validation, f-score={f_score_validation:.2}')\n",
    "ax.plot(iterations, test_loss, label=f'Test, f-score={f_score_test:.2}')\n",
    "\n",
    "ax.set_xlabel('Iterations')\n",
    "ax.set_ylabel('Loss')\n",
    "\n",
    "ax.grid()\n",
    "\n",
    "_ = ax.legend(loc='best', fancybox=True, framealpha=0.5)"
   ]
  },
  {
   "cell_type": "markdown",
   "metadata": {},
   "source": [
    "### Plotting highest and lowest prediction probability"
   ]
  },
  {
   "cell_type": "code",
   "execution_count": null,
   "metadata": {},
   "outputs": [],
   "source": [
    "largest_ind = np.where(y_pred_train == y_pred_train.max())[0][0]\n",
    "lowest_ind = np.where(y_pred_train == y_pred_train.min())[0][0]\n",
    "\n",
    "title_1 = f'Highest prediction probability\\n {y_pred_train[largest_ind]}'\n",
    "title_2 = f'Lowest prediction probability\\n {y_pred_train[lowest_ind]}'\n",
    "\n",
    "fig, (ax1, ax2) = plt.subplots(ncols=2)\n",
    "\n",
    "ax1.imshow(X_train[largest_ind], cmap=\"Greys\")\n",
    "_ = ax1.set_title(title_1)\n",
    "\n",
    "ax2.imshow(X_train[lowest_ind], cmap=\"Greys\")\n",
    "_ = ax2.set_title(title_2)\n",
    "\n",
    "ax1.xaxis.set_major_locator(plt.NullLocator())\n",
    "ax1.yaxis.set_major_locator(plt.NullLocator())\n",
    "ax2.xaxis.set_major_locator(plt.NullLocator())\n",
    "ax2.yaxis.set_major_locator(plt.NullLocator())"
   ]
  }
 ],
 "metadata": {
  "kernelspec": {
   "display_name": "Python 3",
   "language": "python",
   "name": "python3"
  },
  "language_info": {
   "codemirror_mode": {
    "name": "ipython",
    "version": 3
   },
   "file_extension": ".py",
   "mimetype": "text/x-python",
   "name": "python",
   "nbconvert_exporter": "python",
   "pygments_lexer": "ipython3",
   "version": "3.6.5"
  }
 },
 "nbformat": 4,
 "nbformat_minor": 2
}
