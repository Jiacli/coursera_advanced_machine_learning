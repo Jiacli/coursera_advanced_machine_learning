{
 "cells": [
  {
   "cell_type": "markdown",
   "metadata": {},
   "source": [
    "# Image alignment\n",
    "\n",
    "In this task, you will have to solve two image alignment problems: channel processing and face alignment. You can get **10 points** implementing all the passed functions (7.5 for the first part and 2.5 for the second one)."
   ]
  },
  {
   "cell_type": "markdown",
   "metadata": {},
   "source": [
    "# Image channels processing and alignment (7.5 points)\n",
    "\n",
    "## Problem review\n",
    "\n",
    "Sergey Prokudin-Gorsky was the first color photographer in Russia, who made the color portrait of Leo Tolstoy. Each of his photographs is three black-and-white photo plates, corresponding to red, green, and blue color channels. Currently, the collection of his pictures is situated in the U.S. Library of Congress, the altered versions have proliferated online. In this task, you should make a programme which will align the images from the Prokudin-Gorsky plates and learn the basic image processing methods.\n",
    "\n",
    "*The input image and the result of the alignment:*\n",
    "<img src=\"http://cdn1.savepice.ru/uploads/2017/7/31/8e68237bfd49026d137f59283db18b29-full.png\">"
   ]
  },
  {
   "cell_type": "code",
   "execution_count": null,
   "metadata": {},
   "outputs": [],
   "source": [
    "%pylab inline\n",
    "import matplotlib.pyplot as plt \n",
    "import numpy as np"
   ]
  },
  {
   "cell_type": "markdown",
   "metadata": {},
   "source": [
    "## Problem description\n",
    "\n",
    "#### Input image loading\n",
    "\n",
    "The input image is the set of 3 plates, corresponding to B, G, and R channels (top-down). You should implement the function $\\tt{load}$\\_$\\tt{data}$ that reads the data and returns the list of images of plates.\n",
    "$\\tt{dir}$\\_$\\tt{name}$ is the path to the directory with plate images. If this directory is located in the same directory as this notebook, then default arguments can be used."
   ]
  },
  {
   "cell_type": "code",
   "execution_count": null,
   "metadata": {},
   "outputs": [],
   "source": [
    "from pathlib import Path\n",
    "import cv2\n",
    "\n",
    "def load_data(dir_name = 'plates'):\n",
    "    \"\"\"\n",
    "    Loads the plate data\n",
    "    \n",
    "    Parameters\n",
    "    -----------\n",
    "    dir_name : str\n",
    "        Path relative to location of this notebook\n",
    "    \n",
    "    Returns\n",
    "    -------\n",
    "    data : list\n",
    "        The loaded data images. Each image is loaded as a numpy ndarray\n",
    "    \"\"\"\n",
    "    \n",
    "    # Sort as we would like to load the images in a sorted fashion\n",
    "    files = sorted(Path('.').joinpath(dir_name).glob('*.png'))\n",
    "    \n",
    "    data = [cv2.imread(str(f), cv2.IMREAD_GRAYSCALE) for f in files]\n",
    "\n",
    "    return data\n",
    "\n",
    "plates = load_data()"
   ]
  },
  {
   "cell_type": "markdown",
   "metadata": {},
   "source": [
    "The dataset is a list of 2-dimensional arrays."
   ]
  },
  {
   "cell_type": "code",
   "execution_count": null,
   "metadata": {
    "scrolled": false
   },
   "outputs": [],
   "source": [
    "# The auxiliary function `visualize()` displays the images given as argument.\n",
    "def visualize(imgs, format=None):\n",
    "    plt.figure(figsize=(20, 40))\n",
    "    for i, img in enumerate(imgs):\n",
    "        if img.shape[0] == 3:\n",
    "            img = img.transpose(1,2,0)\n",
    "        plt_idx = i+1\n",
    "        plt.subplot(3, 3, plt_idx)    \n",
    "        plt.imshow(img, cmap=format)\n",
    "    plt.show()\n",
    "\n",
    "visualize(plates, 'gray')"
   ]
  },
  {
   "cell_type": "markdown",
   "metadata": {},
   "source": [
    "#### The borders removal (1.5 points)\n",
    "It is worth noting that there is a framing from all sides in most of the images. This framing can appreciably worsen the quality of channels alignment. Here, we suggest that you find the borders on the plates using Canny edge detector, and crop the images according to these edges. The example of using Canny detector implemented in skimage library can be found [here](http://scikit-image.org/docs/dev/auto_examples/edges/plot_canny.html).<br>\n",
    "\n",
    "The borders can be removed in the following way:\n",
    "* Apply Canny edge detector to the image.\n",
    "* Find the rows and columns of the frame pixels. \n",
    "For example, in case of upper bound we will search for the row in the neighborhood of the upper edge of the image (e.g. 5% of its height). For each row let us count the number of edge pixels (obtained using Canny detector) it contains. Having these number let us find two maximums among them. Two rows corresponding to these maximums are edge rows. As there are two color changes in the frame (firstly, from light scanner background to the dark tape and then from the tape to the image), we need the second maximum that is further from the image border. The row corresponding to this maximum is the crop border. In order not to find two neighboring peaks, non-maximum suppression should be implemented: the rows next to the first maximum are set to zero, and after that, the second maximum is searched for."
   ]
  },
  {
   "cell_type": "markdown",
   "metadata": {},
   "source": [
    "#### Canny detector implementation (2.5 points)\n",
    "You can write your own implementation of Canny edge detector to get extra points. <br>\n",
    "\n",
    "Canny detection algorithm:\n",
    "1. *Noise reduction.* To remove noise, the image is smoothed by Gaussian blur with the kernel of size $5 \\times 5$ and $\\sigma = 1.4$. Since the sum of the elements in the Gaussian kernel equals $1$, the kernel should be normalized before the convolution. <br><br>\n",
    "\n",
    "2. *Calculating gradients.* When the image $I$ is smoothed, the derivatives $I_x$ and $I_y$ w.r.t. $x$ and $y$ are calculated. It can be implemented by convolving $I$ with Sobel kernels $K_x$ and $K_y$, respectively: \n",
    "$$ K_x = \\begin{pmatrix} -1 & 0 & 1 \\\\ -2 & 0 & 2 \\\\ -1 & 0 & 1 \\end{pmatrix}, K_y = \\begin{pmatrix} 1 & 2 & 1 \\\\ 0 & 0 & 0 \\\\ -1 & -2 & -1 \\end{pmatrix}. $$ \n",
    "Then, the magnitude $G$ and the slope $\\theta$ of the gradient are calculated:\n",
    "$$ |G| = \\sqrt{I_x^2 + I_y^2}, $$\n",
    "$$ \\theta(x,y) = arctan\\left(\\frac{I_y}{I_x}\\right)$$<br><br>\n",
    "\n",
    "3. *Non-maximum suppression.* For each pixel find two neighbors (in the positive and negative gradient directions, supposing that each neighbor occupies the angle of $\\pi /4$, and $0$ is the direction straight to the right). If the magnitude of the current pixel is greater than the magnitudes of the neighbors, nothing changes, otherwise, the magnitude of the current pixel is set to zero.<br><br>\n",
    "\n",
    "4. *Double threshold.* The gradient magnitudes are compared with two specified threshold values, the first one is less than the second. The gradients that are smaller than the low threshold value are suppressed; the gradients higher than the high threshold value are marked as strong ones and the corresponding pixels are included in the final edge map. All the rest gradients are marked as weak ones and pixels corresponding to these gradients are considered in the next step.<br><br>\n",
    "\n",
    "5. *Edge tracking by hysteresis.* Since a weak edge pixel caused from true edges will be connected to a strong edge pixel, pixel $w$ with weak gradient is marked as edge and included in the final edge map if and only if it is involved in the same blob (connected component) as some pixel $s$ with strong gradient. In other words, there should be a chain of neighbor weak pixels connecting $w$ and $s$ (the neighbors are 8 pixels around the considered one). You are welcome to make up and implement an algorithm that finds all the connected components of the gradient map considering each pixel only once.  After that, you can decide which pixels will be included in the final edge map (this algorithm should be single-pass, as well)."
   ]
  },
  {
   "cell_type": "code",
   "execution_count": null,
   "metadata": {},
   "outputs": [],
   "source": [
    "# NOTE: This is the reference canny detection algorithm, see own implementation below\n",
    "\n",
    "from  skimage.feature import canny\n",
    "\n",
    "def Canny_detector(img):\n",
    "    \"\"\" Your implementation instead of skimage \"\"\"     \n",
    "    return canny(img, sigma=1.4)\n",
    "\n",
    "canny_imgs = []\n",
    "for img in plates:\n",
    "    canny_img = Canny_detector(img)\n",
    "    canny_imgs.append(canny_img)\n",
    "    \n",
    "visualize(canny_imgs, 'gray')"
   ]
  },
  {
   "cell_type": "code",
   "execution_count": null,
   "metadata": {},
   "outputs": [],
   "source": [
    "from scipy.signal import convolve2d"
   ]
  },
  {
   "cell_type": "code",
   "execution_count": null,
   "metadata": {},
   "outputs": [],
   "source": [
    "def reduce_noise(img, sigma=1.4):\n",
    "    \"\"\"\n",
    "    Input image is smoothed by Gaussian blur with sigma and a filter size of 5x5\n",
    "    \n",
    "    Parameters\n",
    "    ----------\n",
    "    img : np.array, shape (rows, cols)\n",
    "        The image to reduce the noise of\n",
    "    \n",
    "    Returns\n",
    "    -------\n",
    "    noise_reduce : np.array, shape (rows, cols)\n",
    "        The image with noise reduction\n",
    "    \"\"\"\n",
    "    # The Gaussian is being centered around the center of the mesh\n",
    "    # Therefore, we can make matrices which counts the distances from the center in the respective directions\n",
    "    # We first make the distance array\n",
    "    x_dist = [2, 1, 0, 1, 2]\n",
    "    y_dist = [2, 1, 0, 1, 2]\n",
    "    \n",
    "    # And makes meshgrids out of these\n",
    "    x, y = np.meshgrid(x_dist, y_dist)\n",
    "\n",
    "    gaussian_kernel = (1/(2*np.pi*sigma**2))*np.exp(-(x**2 + y**2)/(2*sigma**2))\n",
    "    # Normalization of the Gaussian kernel\n",
    "    norm_gaussian_kernel = gaussian_kernel/gaussian_kernel.sum()\n",
    "    \n",
    "    # We convolve using mode='same' such that the input dimension equals output dimension\n",
    "    noise_reduced = convolve2d(img, norm_gaussian_kernel, mode='same')\n",
    "    \n",
    "    return noise_reduced"
   ]
  },
  {
   "cell_type": "code",
   "execution_count": null,
   "metadata": {},
   "outputs": [],
   "source": [
    "def get_gradients(img):\n",
    "    \"\"\"\n",
    "    Returns the gradients with respect to x and y of the input image using Sobel kernels\n",
    "    \n",
    "    Parameters\n",
    "    ----------\n",
    "    img : np.array, shape (rows, cols)\n",
    "        The image to take the derivative of\n",
    "        \n",
    "    Returns\n",
    "    -------\n",
    "    i_x : np.array, shape (rows, cols)\n",
    "        The derivative of the image with respect to x\n",
    "    i_y : np.array, shape (rows, cols)\n",
    "        The derivative of the image with respect to y\n",
    "    \"\"\"\n",
    "    \n",
    "    k_x = np.array([[-1, 0, 1],\n",
    "                    [-2, 0, 2],\n",
    "                    [-1, 0, 1]])\n",
    "    k_y = -k_x.T\n",
    "    \n",
    "    # We convolve using mode='same' such that the input dimension equals output dimension\n",
    "    i_x = convolve2d(img, k_x, mode='same')\n",
    "    i_y = convolve2d(img, k_y, mode='same')\n",
    "    \n",
    "    return i_x, i_y"
   ]
  },
  {
   "cell_type": "code",
   "execution_count": null,
   "metadata": {},
   "outputs": [],
   "source": [
    "def non_maximum_suppression(g_abs, i_x, i_y):\n",
    "    \"\"\"\n",
    "    Performs non maximum suppresses the image\n",
    "    \n",
    "    That is: \n",
    "    1. Finds the closest points in the positive and negative gradient direction\n",
    "    2. If the point under investigation is less in magnitude than one of its two neighbors:\n",
    "       Set value of point under investigation to zero\n",
    "    \n",
    "    Parameters\n",
    "    ----------\n",
    "    g_abs : np.array, shape (rows, cols)\n",
    "        The magnitude of the gradient to take the non-maximum supression of\n",
    "    i_x : np.array, shape (rows, cols)\n",
    "        The derivative of the image with respect to x\n",
    "    i_y : np.array, shape (rows, cols)\n",
    "        The derivative of the image with respect to y\n",
    "        \n",
    "    Returns\n",
    "    -------\n",
    "    non_max_suppressed_g_abs : np.array, shape (rows, cols)\n",
    "        The non-maximum suppressed image\n",
    "    \"\"\"\n",
    "    \n",
    "    non_max_suppressed_g_abs = g_abs.copy()\n",
    "    \n",
    "    row_inds, col_inds = g_abs.shape\n",
    "    \n",
    "    # Numpy is row major, so we loop over the columns first\n",
    "    for x_ind in range(col_inds):\n",
    "        for y_ind in range(row_inds):\n",
    "            # First we find the value of the point under consideration\n",
    "            # NOTE: We check the input g_abs, as the non_max_suppressed_g_abs may have changed\n",
    "            cur_val = g_abs[y_ind, x_ind]\n",
    "            \n",
    "            # Next we find the closest points in positive and negative gradient direction\n",
    "            # NOTE: Clipping values to 0 and 1, as long interactions are of less importances\n",
    "            x_steps = np.round(i_x[y_ind, x_ind]).clip(0, 1).astype(int)\n",
    "            y_steps = np.round(i_y[y_ind, x_ind]).clip(0, 1).astype(int)\n",
    "            \n",
    "            pos_x_index = (x_ind + x_steps).clip(0, col_inds-1)\n",
    "            pos_y_index = (y_ind + y_steps).clip(0, row_inds-1)\n",
    "\n",
    "            neg_x_index = (x_ind - x_steps).clip(0, col_inds-1)\n",
    "            neg_y_index = (y_ind - y_steps).clip(0, row_inds-1)\n",
    "            \n",
    "            # Then we find the value at the positive and negative position\n",
    "            # NOTE: We check the input g_abs, as the non_max_suppressed_g_abs may have changed\n",
    "            pos_dir_val = g_abs[pos_y_index, pos_x_index]\n",
    "            neg_dir_val = g_abs[neg_y_index, neg_x_index]\n",
    "            \n",
    "            if cur_val < pos_dir_val or cur_val < neg_dir_val:\n",
    "                non_max_suppressed_g_abs[y_ind, x_ind] = 0\n",
    "\n",
    "    return non_max_suppressed_g_abs"
   ]
  },
  {
   "cell_type": "code",
   "execution_count": null,
   "metadata": {},
   "outputs": [],
   "source": [
    "def get_strong_and_weak_gradients(g_abs, high=90, low=80):\n",
    "    \"\"\"\n",
    "    Returns the strong and weak gradients of an image\n",
    "    \n",
    "    A strong gradient is a gradient value which is above the high treshold.\n",
    "    A weak gradient is a gradient value which is between the low and high treshold.\n",
    "    Gradient values below the low threshold are neither.\n",
    "    \n",
    "    Notes\n",
    "    -----\n",
    "    The high treshold percentile is set high by default in order to capture the strongest gradients\n",
    "    The low treshold percentile is set close to the high in order to suppress details\n",
    "    \n",
    "    Parameters\n",
    "    ----------\n",
    "    g_abs : np.array, shape (rows, cols)\n",
    "        The magnitude of the gradient\n",
    "    high : float\n",
    "        The high treshold of the gradient (in percentiles)\n",
    "    low : float\n",
    "        The low threshold of the gradient (in percentiles)\n",
    "        \n",
    "    Returns\n",
    "    -------\n",
    "    strong_gradients : np.array, shape (rows, cols)\n",
    "        Strong gradients of the image\n",
    "    weak_gradients : np.array, shape (rows, cols)\n",
    "        Weak gradients of the image    \n",
    "    \"\"\"\n",
    "    \n",
    "    high_tresh = np.percentile(g_abs, high)\n",
    "    low_tresh = np.percentile(g_abs, low)\n",
    "    \n",
    "    strong_gradients = g_abs >= high_tresh\n",
    "    weak_gradients = np.logical_and(g_abs >= low_tresh, g_abs < high_tresh)\n",
    "    \n",
    "    return strong_gradients, weak_gradients"
   ]
  },
  {
   "cell_type": "code",
   "execution_count": null,
   "metadata": {},
   "outputs": [],
   "source": [
    "def edge_track_image(strong_gradients, weak_gradients):\n",
    "    \"\"\"\n",
    "    Combines strong gradient pixels with weak edge pixels caused from true edges.\n",
    "    \n",
    "    A weak edge pixel is considered to be caused by a true edge if any of the eigth \n",
    "    neighbors contains a strong gradient.\n",
    "    \n",
    "    Parameters\n",
    "    ----------\n",
    "    strong_gradients : np.array, shape (rows, cols)\n",
    "        Strong gradients of the image\n",
    "    weak_gradients : np.array, shape (rows, cols)\n",
    "        Weak gradients of the image       \n",
    "    \n",
    "    Returns\n",
    "    -------\n",
    "    canny_img : np.array, shape (rows, cols)\n",
    "        The image containing the canny edges\n",
    "    \"\"\"\n",
    "    \n",
    "    canny_img = strong_gradients.copy().astype(int)\n",
    "    \n",
    "    row_inds, col_inds = weak_gradients.shape\n",
    "\n",
    "    # Numpy is row major, so we loop over the columns first\n",
    "    for x_ind in range(col_inds):\n",
    "        for y_ind in range(row_inds):\n",
    "            # NOTE: A point cannot simultaneously be a strong and weak gradient\n",
    "            if weak_gradients[y_ind, x_ind] and\\\n",
    "               strong_gradients[y_ind-1:y_ind+1, x_ind-1:x_ind+1].any():\n",
    "                canny_img[y_ind, x_ind] = 1\n",
    "                \n",
    "    return canny_img"
   ]
  },
  {
   "cell_type": "code",
   "execution_count": null,
   "metadata": {},
   "outputs": [],
   "source": [
    "def Canny_detector(img):\n",
    "    \"\"\"\n",
    "    Own implementation of the canny detection algorithm\n",
    "    \n",
    "    Parameters\n",
    "    ----------\n",
    "    img : np.array, shape (rows, cols)\n",
    "        The image to find the Canny edges from\n",
    "    \n",
    "    Returns\n",
    "    -------\n",
    "    canny_img : np.array, shape (rows, cols)\n",
    "        The image containing the canny edges\n",
    "    \"\"\"\n",
    "    \n",
    "    # 1. Noise reduction\n",
    "    noise_reduced_img = reduce_noise(img)\n",
    "    \n",
    "    # 2. Calculating the gradients\n",
    "    i_x, i_y = get_gradients(noise_reduced_img)\n",
    "    # NOTE: One could use g_abs and theta for the non-maximum suppression,\n",
    "    #       but using i_x and i_y uses suffices for our purposes\n",
    "    g_abs = np.sqrt(i_x**2 + i_y**2)\n",
    "    \n",
    "    # 3. Non-maximum suppression\n",
    "    suppressed_g = non_maximum_suppression(g_abs, i_x, i_y)\n",
    "    \n",
    "    # 4. Double threshold\n",
    "    strong_gradients, weak_gradients = get_strong_and_weak_gradients(suppressed_g)\n",
    "    \n",
    "    # 5. Edge tracking by hysteresis\n",
    "    canny_img = edge_track_image(strong_gradients, weak_gradients)\n",
    "    \n",
    "    return canny_img\n",
    "\n",
    "canny_imgs = []\n",
    "for img in plates:\n",
    "    canny_img = Canny_detector(img)\n",
    "    canny_imgs.append(canny_img)\n",
    "    \n",
    "visualize(canny_imgs, 'gray')"
   ]
  },
  {
   "cell_type": "code",
   "execution_count": null,
   "metadata": {
    "scrolled": false
   },
   "outputs": [],
   "source": [
    "#################################################################\n",
    "# TODO: Implement the removal of the tape borders using         #\n",
    "#       the output of Canny edge detector (\"canny_img\" list)    #\n",
    "#################################################################\n",
    "\n",
    "\n",
    "# * Find the rows and columns of the frame pixels. \n",
    "# For example, in case of upper bound we will search for the row in the neighborhood of the upper edge of the image\n",
    "# (e.g. 5% of its height). \n",
    "# For each row let us count the number of edge pixels (obtained using Canny detector) it contains.\n",
    "# Having these number let us find two maximums among them.\n",
    "# Two rows corresponding to these maximums are edge rows. \n",
    "# As there are two color changes in the frame \n",
    "# (firstly, from light scanner background to the dark tape and then from the tape to the image),\n",
    "# we need the second maximum that is further from the image border. \n",
    "# The row corresponding to this maximum is the crop border. \n",
    "# In order not to find two neighboring peaks, \n",
    "# non-maximum suppression should be implemented: \n",
    "# the rows next to the first maximum are set to zero, \n",
    "# and after that, the second maximum is searched for.\n",
    "\n",
    "def remove_borders(img, canny_img):\n",
    "    \"\"\" Your implementation instead of the following one\"\"\"   \n",
    "    dx = int(img.shape[1] * 0.05) \n",
    "    return img[dx : -dx, dx : -dx]\n",
    "\n",
    "\n",
    "cropped_imgs = []\n",
    "#crop borders\n",
    "for i, img in enumerate(plates):\n",
    "    cropped_imgs.append(remove_borders(img, canny_imgs[i]))\n",
    "\n",
    "visualize(cropped_imgs, 'gray')"
   ]
  },
  {
   "cell_type": "markdown",
   "metadata": {},
   "source": [
    "#### Channels separation  (0.5 points)\n",
    "\n",
    "The next step is to separate the image into three channels (B, G, R) and make one colored picture. To get channels, you can divide each plate into three equal parts."
   ]
  },
  {
   "cell_type": "code",
   "execution_count": null,
   "metadata": {},
   "outputs": [],
   "source": [
    "#################################################################\n",
    "# TODO: implement the function impose_components transforming   #\n",
    "#       cropped black-and-white images cropped_imgs             #\n",
    "#       into the list of RGB images rgb_imgs                    #\n",
    "#################################################################\n",
    "def impose_components(img):\n",
    "    \"\"\" Your implementation \"\"\"   \n",
    "    pass\n",
    "\n",
    "\n",
    "rgb_imgs = []\n",
    "for cropped_img in cropped_imgs:\n",
    "    rgb_img = impose_components(cropped_img)\n",
    "    rgb_imgs.append(rgb_img)\n",
    "\n",
    "visualize(rgb_imgs)"
   ]
  },
  {
   "cell_type": "markdown",
   "metadata": {},
   "source": [
    "#### Search for the best shift for channel alignment (1 point for metrics implementation + 2 points for channel alignment)\n",
    "\n",
    "In order to align two images, we will shift one image relative to another within some limits (e.g. from $-15$ to $15$ pixels). For each shift, we can calculate some metrics in the overlap of the images. Depending on the metrics, the best shift is the one the metrics achieves the greatest or the smallest value for. We suggest that you implement two metrics and choose the one that allows to obtain the better alignment quality:\n",
    "\n",
    "* *Mean squared error (MSE):*<br><br>\n",
    "$$ MSE(I_1, I_2) = \\dfrac{1}{w * h}\\sum_{x,y}(I_1(x,y)-I_2(x,y))^2, $$<br> where *w, h* are width and height of the images, respectively. To find the optimal shift you should find the minimum MSE over all the shift values.\n",
    "    <br><br>\n",
    "* *Normalized cross-correlation (CC):*<br><br>\n",
    "    $$\n",
    "    I_1 \\ast I_2 = \\dfrac{\\sum_{x,y}I_1(x,y)I_2(x,y)}{\\sum_{x,y}I_1(x,y)\\sum_{x,y}I_2(x,y)}.\n",
    "    $$<br>\n",
    "    To find the optimal shift you should find the maximum CC over all the shift values."
   ]
  },
  {
   "cell_type": "code",
   "execution_count": null,
   "metadata": {},
   "outputs": [],
   "source": [
    "#################################################################\n",
    "# TODO: implement the functions mse и cor calculating           #\n",
    "#       mean squared error and normalized cross-correlation     #\n",
    "#       for two input images, respectively (1 point)            #\n",
    "#################################################################\n",
    "def mse(X, Y):\n",
    "    \"\"\" Your implementation \"\"\"     \n",
    "    pass\n",
    "\n",
    "def cor(X, Y):\n",
    "    \"\"\" Your implementation \"\"\"     \n",
    "    pass"
   ]
  },
  {
   "cell_type": "code",
   "execution_count": null,
   "metadata": {
    "scrolled": false
   },
   "outputs": [],
   "source": [
    "#################################################################\n",
    "# TODO: implement the algorithm to find the best channel        #\n",
    "#       shift and the alignment. Apply this algorithm for       #\n",
    "#       rgb_imgs processing and get the final list of colored   #\n",
    "#       pictures. These images will be used for the evaluation  #\n",
    "#       of the quality of the whole algorithm.  (2 points)      #\n",
    "#                                                               #\n",
    "#       You can use the following interface or write your own.  #\n",
    "#################################################################\n",
    "\n",
    "def get_best_shift(channel1, channel2):\n",
    "    \"\"\" Your implementation \"\"\"     \n",
    "    pass\n",
    "\n",
    "\n",
    "def get_best_image(rgb_img):\n",
    "    \"\"\" Your implementation \"\"\"     \n",
    "    pass\n",
    "\n",
    "\n",
    "\n",
    "final_imgs = []\n",
    "for img in rgb_imgs:\n",
    "    final_img = get_best_image(img)\n",
    "    final_imgs.append(final_img)\n",
    "\n",
    "visualize(final_imgs)"
   ]
  },
  {
   "cell_type": "code",
   "execution_count": null,
   "metadata": {},
   "outputs": [],
   "source": []
  },
  {
   "cell_type": "markdown",
   "metadata": {},
   "source": [
    "# Face Alignment (2.5 points)\n",
    "\n",
    "In this task, you have to implement face normalization and alignment. Most of the face images deceptively seem to be aligned, but since many face recognition algorithms are very sensitive to shifts and rotations, we need not only to find a face on the image but also normalize it. Besides, the neural networks usually used for recognition have fixed input size, so, the normalized face images should be resized as well."
   ]
  },
  {
   "cell_type": "markdown",
   "metadata": {},
   "source": [
    "There are six images of faces you have to normalize. In addition, you have the coordinates of the eyes in each of the pictures. You have to rotate the image so that the eyes are on the same height, crop the square box containing the face and transform it to the size $224\\times 224.$ The eyes should be located symmetrically and in the middle of the image (on the height)."
   ]
  },
  {
   "cell_type": "markdown",
   "metadata": {},
   "source": [
    "Here is an example of how the transformation should look like.\n",
    "\n",
    "<img src = \"https://cdn1.savepice.ru/uploads/2017/12/13/286e475ef7a4f4e59005bcf7de78742f-full.jpg\">"
   ]
  },
  {
   "cell_type": "markdown",
   "metadata": {},
   "source": [
    "#### Get data\n",
    "You get the images and corresponding eyes coordinates for each person. You should implement the  function $\\tt{load}$\\_$\\tt{faces}$\\_$\\tt{and}$\\_$\\tt{eyes}$ that reads the data and returns two dictionaries: the dictionary of images and the dictionary of eyes coordinates. Eyes coordinates is a list of two tuples $[(x_1,y_1),(x_2,y_2)]$.\n",
    "Both dictionaries should have filenames as the keys.\n",
    "\n",
    "$\\tt{dir}$\\_$\\tt{name}$ is the path to the directory with face images, $\\tt{eye}$\\_$\\tt{path}$ is the path to .pickle file with eyes coordinates. If these directory and file are located in the same directory as this notebook, then default arguments can be used."
   ]
  },
  {
   "cell_type": "code",
   "execution_count": null,
   "metadata": {},
   "outputs": [],
   "source": [
    "def load_faces_and_eyes(dir_name = 'faces_imgs', eye_path = './eyes.pickle'):\n",
    "    \"\"\" Your implementation \"\"\"     \n",
    "    pass\n",
    "    \n",
    "    \n",
    "faces, eyes = load_faces_and_eyes()"
   ]
  },
  {
   "cell_type": "markdown",
   "metadata": {},
   "source": [
    "Here is how the input images look like:"
   ]
  },
  {
   "cell_type": "code",
   "execution_count": null,
   "metadata": {},
   "outputs": [],
   "source": [
    "visualize(faces.values())"
   ]
  },
  {
   "cell_type": "markdown",
   "metadata": {
    "collapsed": true
   },
   "source": [
    "You may make the transformation using your own algorithm or by the following steps:\n",
    "1. Find the angle between the segment connecting two eyes and horizontal line;\n",
    "2. Rotate the image;\n",
    "3. Find the coordinates of the eyes on the rotated image\n",
    "4. Find the width and height of the box containing the face depending on the eyes coordinates\n",
    "5. Crop the box and resize it to $224\\times224$"
   ]
  },
  {
   "cell_type": "code",
   "execution_count": null,
   "metadata": {},
   "outputs": [],
   "source": [
    "#################################################################\n",
    "# TODO: implement the function transform_face that rotates      #\n",
    "#       the image so that the eyes have equal ordinate,         #\n",
    "#       crops the square box containing face and resizes it.    #\n",
    "#       You can use methods from skimage library if you need.   #\n",
    "#       (2.5 points)                                              #\n",
    "#################################################################\n",
    "\n",
    "def transform_face(image, eyes):\n",
    "    \"\"\" Your implementation \"\"\"     \n",
    "    return image"
   ]
  },
  {
   "cell_type": "code",
   "execution_count": null,
   "metadata": {},
   "outputs": [],
   "source": [
    "transformed_imgs = []\n",
    "for i in faces:\n",
    "    img = faces[i]\n",
    "    eye = eyes[i]\n",
    "    transformed = transform_face(img, eye)\n",
    "    transformed_imgs.append(transformed)\n",
    "    \n",
    "visualize(transformed_imgs)"
   ]
  },
  {
   "cell_type": "code",
   "execution_count": null,
   "metadata": {},
   "outputs": [],
   "source": []
  }
 ],
 "metadata": {
  "kernelspec": {
   "display_name": "Python 3",
   "language": "python",
   "name": "python3"
  },
  "language_info": {
   "codemirror_mode": {
    "name": "ipython",
    "version": 3
   },
   "file_extension": ".py",
   "mimetype": "text/x-python",
   "name": "python",
   "nbconvert_exporter": "python",
   "pygments_lexer": "ipython3",
   "version": "3.6.6"
  }
 },
 "nbformat": 4,
 "nbformat_minor": 2
}
