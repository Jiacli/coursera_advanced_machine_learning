{
 "cells": [
  {
   "cell_type": "markdown",
   "metadata": {},
   "source": [
    "# Deep Q-Network implementation\n",
    "\n",
    "This notebook shamelessly demands you to implement a DQN - an approximate q-learning algorithm with experience replay and target networks - and see if it works any better this way."
   ]
  },
  {
   "cell_type": "code",
   "execution_count": null,
   "metadata": {},
   "outputs": [],
   "source": [
    "#XVFB will be launched if you run on a server\n",
    "import os\n",
    "if type(os.environ.get(\"DISPLAY\")) is not str or len(os.environ.get(\"DISPLAY\"))==0:\n",
    "    !bash ../xvfb start\n",
    "    %env DISPLAY=:1"
   ]
  },
  {
   "cell_type": "markdown",
   "metadata": {},
   "source": [
    "__Frameworks__ - we'll accept this homework in any deep learning framework. This particular notebook was designed for tensorflow, but you will find it easy to adapt it to almost any python-based deep learning framework."
   ]
  },
  {
   "cell_type": "code",
   "execution_count": null,
   "metadata": {},
   "outputs": [],
   "source": [
    "import gym\n",
    "import pickle\n",
    "import numpy as np\n",
    "import pandas as pd\n",
    "import matplotlib.pyplot as plt\n",
    "from pathlib import Path\n",
    "%matplotlib inline"
   ]
  },
  {
   "cell_type": "code",
   "execution_count": null,
   "metadata": {},
   "outputs": [],
   "source": [
    "train_from_scratch = False"
   ]
  },
  {
   "cell_type": "markdown",
   "metadata": {},
   "source": [
    "### Let's play some old videogames\n",
    "![img](https://github.com/yandexdataschool/Practical_RL/raw/master/yet_another_week/_resource/nerd.png)\n",
    "\n",
    "This time we're gonna apply approximate q-learning to an atari game called Breakout. It's not the hardest thing out there, but it's definitely way more complex than anything we tried before.\n"
   ]
  },
  {
   "cell_type": "markdown",
   "metadata": {},
   "source": [
    "### Processing game image \n",
    "\n",
    "Raw atari images are large, 210x160x3 by default. However, we don't need that level of detail in order to learn them.\n",
    "\n",
    "We can thus save a lot of time by preprocessing game image, including\n",
    "* Resizing to a smaller shape, 64 x 64\n",
    "* Converting to grayscale\n",
    "* Cropping irrelevant image parts (top & bottom)"
   ]
  },
  {
   "cell_type": "code",
   "execution_count": null,
   "metadata": {},
   "outputs": [],
   "source": [
    "# Install scikit image if not already installed\n",
    "!pip install scikit-image"
   ]
  },
  {
   "cell_type": "code",
   "execution_count": null,
   "metadata": {},
   "outputs": [],
   "source": [
    "# Seems like this is not installed\n",
    "!pip install atari-py"
   ]
  },
  {
   "cell_type": "code",
   "execution_count": null,
   "metadata": {},
   "outputs": [],
   "source": [
    "from gym.core import ObservationWrapper\n",
    "from gym.spaces import Box\n",
    "from skimage.color import rgb2gray\n",
    "from skimage.transform import resize\n",
    "\n",
    "\n",
    "class PreprocessAtari(ObservationWrapper):\n",
    "    \"\"\"\n",
    "    Applies a preprocesser to the environment\n",
    "    \"\"\"\n",
    "    \n",
    "    def __init__(self, env):\n",
    "        \"\"\"\n",
    "        A gym wrapper that crops, scales image into the desired shapes and optionally grayscales it.\n",
    "        \n",
    "        Parameters\n",
    "        ----------\n",
    "        env : gym-object\n",
    "            The environment to play with\n",
    "        \"\"\"\n",
    "        ObservationWrapper.__init__(self, env)\n",
    "        \n",
    "        self.img_size = (64, 64)\n",
    "        # NOTE: Edited for consistency\n",
    "        #       https://www.coursera.org/learn/practical-rl/programming/upglq/dqn-breakout/discussions/threads/yzC8W14LEei7pAoHCSt0dA?sort=createdAtAsc&page=1\n",
    "        self.observation_space = \\\n",
    "            Box(low=0.0, high=1.0, shape=(self.img_size[0], self.img_size[1], 1), dtype=np.float32)\n",
    "\n",
    "    def observation(self, img):\n",
    "        \"\"\"\n",
    "        Returns the observation given a raw image\n",
    "        \n",
    "        This function will:\n",
    "            - Center crop the image (160, 160, 3)\n",
    "            - Resize the image\n",
    "            - Cast the image to grayscale\n",
    "            - Normalize the pixels in the (0, 1) range\n",
    "        \n",
    "        Parameters\n",
    "        ----------\n",
    "        img : np.array, shape (210, 160, 3)\n",
    "            The raw input image\n",
    "        \n",
    "        Returns\n",
    "        -------\n",
    "        proc_img : np.array, shape (*self.img_size)\n",
    "            The processed image\n",
    "        \"\"\"\n",
    "        \n",
    "        # NOTE: After trial and error we cropped the image so that it just\n",
    "        #       include the boarders\n",
    "        # NOTE: The subsequent resize will slightly stretch the image horizontally\n",
    "        proc_img = img[30:-15, 6:-6]\n",
    "        # Resizing\n",
    "        # NOTE: This recasts to 0, 1\n",
    "        #       https://www.coursera.org/learn/practical-rl/programming/upglq/dqn-breakout/discussions/threads/_JqWyHn4Eeiv7hJZeB6Vjg\n",
    "        proc_img = resize(proc_img, self.img_size, mode='reflect', anti_aliasing=True)\n",
    "        # NOTE: Ehancing red color (the color of the ball) by shifting the relative distribtion\n",
    "        proc_img[..., 0] *= 1.2\n",
    "        proc_img[..., 1] *= 0.3\n",
    "        proc_img[..., 2] *= 0.2\n",
    "        # Grayscaling\n",
    "        proc_img = rgb2gray(proc_img)\n",
    "        # Sacling (based on max pixel) and cast to float32\n",
    "        proc_img = proc_img.astype(np.float32)/0.2977867\n",
    "\n",
    "        # Make sure the dimension is 3\n",
    "        proc_img = proc_img[..., np.newaxis]\n",
    "              \n",
    "        return proc_img"
   ]
  },
  {
   "cell_type": "code",
   "execution_count": null,
   "metadata": {},
   "outputs": [],
   "source": [
    "env = gym.make(\"BreakoutDeterministic-v0\")\n",
    "env.reset()\n",
    "plt.title(\"The original game image\")\n",
    "plt.imshow(env.render(\"rgb_array\"))"
   ]
  },
  {
   "cell_type": "code",
   "execution_count": null,
   "metadata": {},
   "outputs": [],
   "source": [
    "# Spawn game instance for tests\n",
    "env = gym.make(\"BreakoutDeterministic-v0\") #create raw env\n",
    "env = PreprocessAtari(env)\n",
    "\n",
    "observation_shape = env.observation_space.shape\n",
    "n_actions = env.action_space.n\n",
    "\n",
    "obs = env.reset()\n",
    "\n",
    "# test observation\n",
    "assert obs.ndim == 3, \"observation must be [batch, time, channels] even if there's just one channel\"\n",
    "# assert obs.shape == observation_shape\n",
    "assert obs.dtype == 'float32'\n",
    "assert len(np.unique(obs))>2, \"your image must not be binary\"\n",
    "assert 0 <= np.min(obs) and np.max(obs) <=1, \"convert image pixels to (0,1) range\"\n",
    "\n",
    "print(\"Formal tests seem fine. Here's an example of what you'll get.\")\n",
    "\n",
    "fig, ax = plt.subplots()\n",
    "fig.suptitle(\"what your network gonna see\")\n",
    "# NOTE: Edit as we have something with ndim = 3\n",
    "im = ax.imshow(obs[..., 0], interpolation='none', cmap='gray')\n",
    "_ = fig.colorbar(im, ax=ax)"
   ]
  },
  {
   "cell_type": "code",
   "execution_count": null,
   "metadata": {},
   "outputs": [],
   "source": [
    "obs = env.reset()\n",
    "# NOTE: Looks like ball starts after taking action 1\n",
    "obs, _, _, _ = env.step(1)\n",
    "\n",
    "fig, ax = plt.subplots()\n",
    "fig.suptitle(\"After on step of action 1\")\n",
    "# NOTE: Edit as we have something with ndim = 3\n",
    "im = ax.imshow(obs[..., 0], interpolation='none', cmap='gray')\n",
    "_ = fig.colorbar(im, ax=ax)"
   ]
  },
  {
   "cell_type": "markdown",
   "metadata": {},
   "source": [
    "### Frame buffer\n",
    "\n",
    "Our agent can only process one observation at a time, so we gotta make sure it contains enough information to fing optimal actions. For instance, agent has to react to moving objects so he must be able to measure object's velocity.\n",
    "\n",
    "To do so, we introduce a buffer that stores 4 last images. This time everything is pre-implemented for you."
   ]
  },
  {
   "cell_type": "code",
   "execution_count": null,
   "metadata": {
    "scrolled": false
   },
   "outputs": [],
   "source": [
    "from framebuffer import FrameBuffer\n",
    "\n",
    "def make_env():\n",
    "    \"\"\"\n",
    "    Make the environment with such that the last 4 images are buffered in the image\n",
    "    \"\"\"\n",
    "    \n",
    "    # NOTE: v4 is the fourth sematic version of break out\n",
    "    #       https://github.com/openai/baselines/issues/552\n",
    "    env = gym.make(\"BreakoutDeterministic-v4\")\n",
    "    env = PreprocessAtari(env)\n",
    "    env = FrameBuffer(env, n_frames=4, dim_order='tensorflow')\n",
    "    return env\n",
    "\n",
    "env = make_env()\n",
    "env.reset()\n",
    "n_actions = env.action_space.n\n",
    "state_dim = env.observation_space.shape"
   ]
  },
  {
   "cell_type": "code",
   "execution_count": null,
   "metadata": {},
   "outputs": [],
   "source": [
    "for _ in range(50):\n",
    "    obs, _, _, _ = env.step(env.action_space.sample())\n",
    "\n",
    "plt.title(\"Game image\")\n",
    "plt.imshow(env.render(\"rgb_array\"))\n",
    "plt.show()\n",
    "plt.title(\"Agent observation (4 frames left to right)\")\n",
    "plt.imshow(obs.transpose([0,2,1]).reshape([state_dim[0], -1]));"
   ]
  },
  {
   "cell_type": "markdown",
   "metadata": {},
   "source": [
    "### Building a network\n",
    "\n",
    "We now need to build a neural network that can map images to state q-values. This network will be called on every agent's step so it better not be resnet-152 unless you have an array of GPUs. Instead, you can use strided convolutions with a small number of features to save time and memory.\n",
    "\n",
    "You can build any architecture you want, but for reference, here's something that will more or less work:"
   ]
  },
  {
   "cell_type": "markdown",
   "metadata": {},
   "source": [
    "![img](https://github.com/yandexdataschool/Practical_RL/raw/master/yet_another_week/_resource/dqn_arch.png)"
   ]
  },
  {
   "cell_type": "code",
   "execution_count": null,
   "metadata": {},
   "outputs": [],
   "source": [
    "import tensorflow as tf\n",
    "tf.reset_default_graph()\n",
    "sess = tf.InteractiveSession()"
   ]
  },
  {
   "cell_type": "code",
   "execution_count": null,
   "metadata": {},
   "outputs": [],
   "source": [
    "import keras.layers as L\n",
    "import keras\n",
    "\n",
    "class DQNAgent(object):\n",
    "    \"\"\"\n",
    "    The deep q-network agent\n",
    "    \"\"\"\n",
    "    \n",
    "    def __init__(self, name, state_shape, n_actions, epsilon=0, reuse=False):\n",
    "        \"\"\"\n",
    "        The constructor to the DQN\n",
    "        \n",
    "        Creates the network\n",
    "        \n",
    "        Parameters\n",
    "        ----------\n",
    "        name : str\n",
    "            The name of the variable scope\n",
    "        state_shape : tuple\n",
    "            Shape of the state\n",
    "            For example (64, 64, 4)\n",
    "        n_actions : int\n",
    "            The number of allowed actions\n",
    "        epsilon : float\n",
    "            The epsilon used for learning\n",
    "        reuse : bool\n",
    "            Whether or not the variable scope should be reused\n",
    "        \"\"\"\n",
    "        \n",
    "        with tf.variable_scope(name, reuse=reuse):\n",
    "            \n",
    "            # Setup the network\n",
    "            self.network = keras.models.Sequential()\n",
    "            self.network.add(L.InputLayer(state_shape))\n",
    "            self.network.add(L.Conv2D(filters=16, \n",
    "                                      kernel_size=(3, 3),\n",
    "                                      strides=(2, 2)))\n",
    "            self.network.add(L.ReLU())\n",
    "            self.network.add(L.Conv2D(filters=32, \n",
    "                                      kernel_size=(3, 3),\n",
    "                                      strides=(2, 2)))\n",
    "            self.network.add(L.ReLU())\n",
    "            self.network.add(L.Conv2D(filters=32, \n",
    "                                      kernel_size=(3, 3),\n",
    "                                      strides=(2, 2)))\n",
    "            self.network.add(L.Flatten())\n",
    "            self.network.add(L.Dense(256))\n",
    "            self.network.add(L.ReLU())\n",
    "            self.network.add(L.Dense(n_actions))\n",
    "            \n",
    "            # Prepare a graph for agent step\n",
    "            self.state_t = tf.placeholder('float32', [None,] + list(state_shape))\n",
    "            self.qvalues_t = self.get_symbolic_qvalues(self.state_t)\n",
    "            \n",
    "        self.weights = tf.get_collection(tf.GraphKeys.TRAINABLE_VARIABLES, scope=name)\n",
    "        self.epsilon = epsilon\n",
    "\n",
    "    def get_symbolic_qvalues(self, state_t):\n",
    "        \"\"\"\n",
    "        Takes the agent's observation and returns its (symbolic) qvalues\n",
    "        \n",
    "        Parameters\n",
    "        ----------\n",
    "        state_t : tf.Tensor, shape (batch_nr, *state_shape)\n",
    "            The current state\n",
    "        \n",
    "        Returns\n",
    "        -------\n",
    "        qvalues : tf.Tensor, shape (batch_nr, n_actions)\n",
    "            The corresponding Q-values\n",
    "        \"\"\"\n",
    "        \n",
    "        qvalues = self.network(state_t)\n",
    "        \n",
    "        assert tf.is_numeric_tensor(qvalues) and qvalues.shape.ndims == 2, \\\n",
    "            \"please return 2d tf tensor of qvalues [you got %s]\" % repr(qvalues)\n",
    "        assert int(qvalues.shape[1]) == n_actions\n",
    "        \n",
    "        return qvalues\n",
    "    \n",
    "    def get_qvalues(self, state_t):\n",
    "        \"\"\"\n",
    "        Same as get_symbolic_qvalues step except it operates on numpy arrays\n",
    "        \n",
    "        Parameters\n",
    "        ----------\n",
    "        state_t : np.array, shape (batch_nr, *state_shape)\n",
    "            The current state\n",
    "        \n",
    "        Returns\n",
    "        -------\n",
    "        qvalues : np.array, shape (batch_nr, n_actions)\n",
    "            The corresponding Q-values\n",
    "        \"\"\"\n",
    "        \n",
    "        sess = tf.get_default_session()\n",
    "        return sess.run(self.qvalues_t, {self.state_t: state_t})\n",
    "    \n",
    "    def sample_actions(self, qvalues):\n",
    "        \"\"\"\n",
    "        Pick actions given qvalues.\n",
    "        \n",
    "        Uses epsilon-greedy exploration strategy.\n",
    "        \n",
    "        Parameters\n",
    "        ----------\n",
    "        qvalues : np.array, shape (batch_nr, n_actions)\n",
    "            The Q-values to sample from\n",
    "        \n",
    "        Returns\n",
    "        -------\n",
    "        int\n",
    "            The action\n",
    "        \"\"\"\n",
    "        \n",
    "        epsilon = self.epsilon\n",
    "        batch_size, n_actions = qvalues.shape\n",
    "        random_actions = np.random.choice(n_actions, size=batch_size)\n",
    "        best_actions = qvalues.argmax(axis=-1)\n",
    "        should_explore = np.random.choice([0, 1], batch_size, p = [1-epsilon, epsilon])\n",
    "        \n",
    "        return np.where(should_explore, random_actions, best_actions)"
   ]
  },
  {
   "cell_type": "code",
   "execution_count": null,
   "metadata": {},
   "outputs": [],
   "source": [
    "agent = DQNAgent(\"dqn_agent\", state_dim, n_actions, epsilon=0.5)\n",
    "sess.run(tf.global_variables_initializer())"
   ]
  },
  {
   "cell_type": "markdown",
   "metadata": {},
   "source": [
    "Now let's try out our agent to see if it raises any errors."
   ]
  },
  {
   "cell_type": "code",
   "execution_count": null,
   "metadata": {},
   "outputs": [],
   "source": [
    "def evaluate(env, agent, n_games=1, greedy=False, t_max=10000):\n",
    "    \"\"\"\n",
    "    Plays `n_games` games\n",
    "    \n",
    "    The game will finish either when the game has ended or when `t_max` is reached\n",
    "    \n",
    "    Parameters\n",
    "    ----------\n",
    "    env : gym-object\n",
    "        The environment to play with\n",
    "    agent : DQNAgent\n",
    "        The agent to play with\n",
    "    n_games : int\n",
    "        Number of games to play\n",
    "    greedy : bool\n",
    "        If greedy, the agent picks actions as argmax(qvalues)\n",
    "    t_max : int\n",
    "        The maximum number of states before terminating the game\n",
    "        \n",
    "    Returns\n",
    "    -------\n",
    "    float\n",
    "        The mean rewards\n",
    "    \"\"\"\n",
    "    \n",
    "    i=0\n",
    "    \n",
    "    rewards = []\n",
    "    for _ in range(n_games):\n",
    "        s = env.reset()\n",
    "        reward = 0\n",
    "        # NOTE: Changed t_max with while True\n",
    "        #       https://github.com/openai/gym/issues/430\n",
    "        while True:\n",
    "            qvalues = agent.get_qvalues([s])\n",
    "            action = qvalues.argmax(axis=-1)[0] if greedy else agent.sample_actions(qvalues)[0]\n",
    "            s, r, done, _ = env.step(action)\n",
    "            reward += r\n",
    "            i+=1\n",
    "            # NOTE: It seems like the environment doesn't set done appropriately\n",
    "            if done or i > t_max: \n",
    "                break\n",
    "                \n",
    "        rewards.append(reward)\n",
    "    return np.mean(rewards)"
   ]
  },
  {
   "cell_type": "code",
   "execution_count": null,
   "metadata": {},
   "outputs": [],
   "source": [
    "evaluate(env, agent, n_games=1)"
   ]
  },
  {
   "cell_type": "markdown",
   "metadata": {},
   "source": [
    "### Experience replay\n",
    "For this assignment, we provide you with experience replay buffer. If you implemented experience replay buffer in last week's assignment, you can copy-paste it here __to get 2 bonus points__.\n",
    "\n",
    "![img](https://github.com/yandexdataschool/Practical_RL/raw/master/yet_another_week/_resource/exp_replay.png)"
   ]
  },
  {
   "cell_type": "markdown",
   "metadata": {},
   "source": [
    "#### The interface is fairly simple:\n",
    "* `exp_replay.add(obs, act, rw, next_obs, done)` - saves (s,a,r,s',done) tuple into the buffer\n",
    "* `exp_replay.sample(batch_size)` - returns observations, actions, rewards, next_observations and is_done for `batch_size` random samples.\n",
    "* `len(exp_replay)` - returns number of elements stored in replay buffer."
   ]
  },
  {
   "cell_type": "code",
   "execution_count": null,
   "metadata": {},
   "outputs": [],
   "source": [
    "from replay_buffer import ReplayBuffer\n",
    "exp_replay = ReplayBuffer(10)\n",
    "\n",
    "for _ in range(30):\n",
    "    exp_replay.add(env.reset(), env.action_space.sample(), 1.0, env.reset(), done=False)\n",
    "\n",
    "obs_batch, act_batch, reward_batch, next_obs_batch, is_done_batch = exp_replay.sample(5)\n",
    "\n",
    "assert len(exp_replay) == 10, \"experience replay size should be 10 because that's what maximum capacity is\""
   ]
  },
  {
   "cell_type": "code",
   "execution_count": null,
   "metadata": {},
   "outputs": [],
   "source": [
    "from tqdm import tqdm_notebook"
   ]
  },
  {
   "cell_type": "code",
   "execution_count": null,
   "metadata": {},
   "outputs": [],
   "source": [
    "def play_and_record(agent, env, exp_replay, n_steps=1, progressbar=True):\n",
    "    \"\"\"\n",
    "    Play the game for exactly n steps, record every (s, a, r, s', done) to replay buffer. \n",
    "    Whenever game ends, add record with done=True and reset the game.\n",
    "    \n",
    "    Notes\n",
    "    -----\n",
    "    Please do not env.reset() unless env is done.\n",
    "    It is guaranteed that env has done=False when passed to this function.\n",
    "    \n",
    "    Parameters\n",
    "    ----------\n",
    "    env : gym-object\n",
    "        The environment to play with\n",
    "    agent : DQNAgent\n",
    "        The agent to play with\n",
    "    exp_replay : ReplayBuffer-like\n",
    "        The replay buffer to use\n",
    "    n_steps : int\n",
    "        The number of steps to use\n",
    "    progressbar : bool\n",
    "        Whether or not to use a progressbar\n",
    "    \n",
    "    Returns\n",
    "    -------\n",
    "    sum_of_rewards : float\n",
    "        The sum of rewards over time\n",
    "    \"\"\"\n",
    "    \n",
    "    # State at the beginning of rollout\n",
    "    s = env.framebuffer\n",
    "    \n",
    "    sum_of_rewards = 0\n",
    "    \n",
    "    # NOTE: Initialize the last_info\n",
    "    last_info = None\n",
    "    \n",
    "    # Play the game for n_steps \n",
    "    for _ in tqdm_notebook(range(n_steps), desc='n_step', disable=not(progressbar)):\n",
    "        qvalues = agent.get_qvalues([s])\n",
    "        # Non-greedy choice of action\n",
    "        action = agent.sample_actions(qvalues)[0]\n",
    "        new_s, r, done, info = env.step(action)\n",
    "        # NOTE: We penalize the agent if it died last time\n",
    "        r = -10 if (last_info is not None \n",
    "                    and last_info['ale.lives'] > info['ale.lives']) \\\n",
    "                else r\n",
    "        last_info = info\n",
    "        \n",
    "        sum_of_rewards += r\n",
    "        \n",
    "        # Add to the replay buffer\n",
    "        exp_replay.add(obs_t=s, action=action, reward=r, obs_tp1=new_s, done=done)\n",
    "        if done:\n",
    "            new_s = env.reset()\n",
    "        \n",
    "        # Update state\n",
    "        s = new_s\n",
    "        \n",
    "    return sum_of_rewards"
   ]
  },
  {
   "cell_type": "code",
   "execution_count": null,
   "metadata": {},
   "outputs": [],
   "source": [
    "# testing your code. This may take a minute...\n",
    "exp_replay = ReplayBuffer(20000)\n",
    "\n",
    "play_and_record(agent, env, exp_replay, n_steps=10000)\n",
    "\n",
    "# if you're using your own experience replay buffer, some of those tests may need correction. \n",
    "# just make sure you know what your code does\n",
    "assert len(exp_replay) == 10000, \"play_and_record should have added exactly 10000 steps, \"\\\n",
    "                                 \"but instead added %i\"%len(exp_replay)\n",
    "is_dones = list(zip(*exp_replay._storage))[-1]\n",
    "\n",
    "assert 0 < np.mean(is_dones) < 0.1, \"Please make sure you restart the game whenever it is 'done' and record the is_done correctly into the buffer.\"\\\n",
    "                                    \"Got %f is_done rate over %i steps. [If you think it's your tough luck, just re-run the test]\"%(np.mean(is_dones), len(exp_replay))\n",
    "    \n",
    "for _ in range(100):\n",
    "    obs_batch, act_batch, reward_batch, next_obs_batch, is_done_batch = exp_replay.sample(10)\n",
    "    assert obs_batch.shape == next_obs_batch.shape == (10,) + state_dim\n",
    "    assert act_batch.shape == (10,), \"actions batch should have shape (10,) but is instead %s\"%str(act_batch.shape)\n",
    "    assert reward_batch.shape == (10,), \"rewards batch should have shape (10,) but is instead %s\"%str(reward_batch.shape)\n",
    "    assert is_done_batch.shape == (10,), \"is_done batch should have shape (10,) but is instead %s\"%str(is_done_batch.shape)\n",
    "    assert [int(i) in (0,1) for i in is_dones], \"is_done should be strictly True or False\"\n",
    "    assert [0 <= a <= n_actions for a in act_batch], \"actions should be within [0, n_actions]\"\n",
    "    \n",
    "print(\"Well done!\")"
   ]
  },
  {
   "cell_type": "markdown",
   "metadata": {},
   "source": [
    "### Target networks\n",
    "\n",
    "We also employ the so called \"target network\" - a copy of neural network weights to be used for reference Q-values:\n",
    "\n",
    "The network itself is an exact copy of agent network, but it's parameters are not trained. Instead, they are moved here from agent's actual network every so often.\n",
    "\n",
    "$$ Q_{reference}(s,a) = r + \\gamma \\cdot \\max _{a'} Q_{target}(s',a') $$\n",
    "\n",
    "![img](https://github.com/yandexdataschool/Practical_RL/raw/master/yet_another_week/_resource/target_net.png)\n",
    "\n"
   ]
  },
  {
   "cell_type": "code",
   "execution_count": null,
   "metadata": {},
   "outputs": [],
   "source": [
    "target_network = DQNAgent(\"target_network\", state_dim, n_actions)"
   ]
  },
  {
   "cell_type": "code",
   "execution_count": null,
   "metadata": {},
   "outputs": [],
   "source": [
    "def load_weights_into_target_network(agent, target_network):\n",
    "    \"\"\" \n",
    "    Assign target_network.weights variables to their respective agent.weights values\n",
    "    \n",
    "    Parameters\n",
    "    ----------\n",
    "    agent : DQNAgent\n",
    "        The agent to copy weights from\n",
    "    target_network : DQNAgent\n",
    "        The agent to copy weights to\n",
    "        \n",
    "    Returns\n",
    "    -------\n",
    "    assigns : list\n",
    "        A list of assignment from the agent weights to the target weights\n",
    "    \"\"\"\n",
    "    \n",
    "    assigns = []\n",
    "    for w_agent, w_target in zip(agent.weights, target_network.weights):\n",
    "        assigns.append(tf.assign(w_target, w_agent, validate_shape=True))\n",
    "    return assigns"
   ]
  },
  {
   "cell_type": "code",
   "execution_count": null,
   "metadata": {},
   "outputs": [],
   "source": [
    "# Create the tf copy graph only once\n",
    "copy_step = load_weights_into_target_network(agent, target_network)\n",
    "sess.run(copy_step)\n",
    "# Check that it works\n",
    "sess.run([tf.assert_equal(w, w_target)\n",
    "          for w, w_target in zip(agent.weights, target_network.weights)])\n",
    "print(\"It works!\")"
   ]
  },
  {
   "cell_type": "markdown",
   "metadata": {},
   "source": [
    "### Learning with... Q-learning\n",
    "Here we write a function similar to `agent.update` from tabular q-learning."
   ]
  },
  {
   "cell_type": "code",
   "execution_count": null,
   "metadata": {},
   "outputs": [],
   "source": [
    "# placeholders that will be fed with exp_replay.sample(batch_size)\n",
    "obs_ph = tf.placeholder(tf.float32, shape=(None,) + state_dim)\n",
    "actions_ph = tf.placeholder(tf.int32, shape=[None])\n",
    "rewards_ph = tf.placeholder(tf.float32, shape=[None])\n",
    "next_obs_ph = tf.placeholder(tf.float32, shape=(None,) + state_dim)\n",
    "is_done_ph = tf.placeholder(tf.float32, shape=[None])\n",
    "\n",
    "is_not_done = 1 - is_done_ph\n",
    "gamma = 0.99"
   ]
  },
  {
   "cell_type": "markdown",
   "metadata": {},
   "source": [
    "Take q-values for actions agent just took"
   ]
  },
  {
   "cell_type": "code",
   "execution_count": null,
   "metadata": {},
   "outputs": [],
   "source": [
    "current_qvalues = agent.get_symbolic_qvalues(obs_ph)\n",
    "current_action_qvalues = tf.reduce_sum(tf.one_hot(actions_ph, n_actions) * current_qvalues, axis=1)"
   ]
  },
  {
   "cell_type": "markdown",
   "metadata": {},
   "source": [
    "Compute Q-learning TD error:\n",
    "\n",
    "$$ L = { 1 \\over N} \\sum_i [ Q_{\\theta}(s,a) - Q_{reference}(s,a) ] ^2 $$\n",
    "\n",
    "With Q-reference defined as\n",
    "\n",
    "$$ Q_{reference}(s,a) = r(s,a) + \\gamma \\cdot max_{a'} Q_{target}(s', a') $$\n",
    "\n",
    "Where\n",
    "* $Q_{target}(s',a')$ denotes q-value of next state and next action predicted by __target_network__\n",
    "* $s, a, r, s'$ are current state, action, reward and next state respectively\n",
    "* $\\gamma$ is a discount factor defined two cells above."
   ]
  },
  {
   "cell_type": "code",
   "execution_count": null,
   "metadata": {},
   "outputs": [],
   "source": [
    "# Compute q-values for NEXT states with target network\n",
    "next_qvalues_target = target_network.get_symbolic_qvalues(next_obs_ph)\n",
    "\n",
    "# Compute state values by taking max over next_qvalues_target for all actions\n",
    "# NOTE: Multiply with is_not_done as the next state value will be zero if the game is done \n",
    "next_state_values_target = tf.reduce_max(next_qvalues_target, axis=-1) * is_not_done\n",
    "\n",
    "# Compute Q_reference(s,a) as per formula above.\n",
    "reference_qvalues = rewards_ph + gamma*next_state_values_target\n",
    "\n",
    "# Define loss function for sgd.\n",
    "td_loss = (current_action_qvalues - reference_qvalues) ** 2\n",
    "td_loss = tf.reduce_mean(td_loss)\n",
    "\n",
    "train_step = tf.train.AdamOptimizer(1e-3).minimize(td_loss, var_list=agent.weights)"
   ]
  },
  {
   "cell_type": "code",
   "execution_count": null,
   "metadata": {},
   "outputs": [],
   "source": [
    "sess.run(tf.global_variables_initializer())"
   ]
  },
  {
   "cell_type": "code",
   "execution_count": null,
   "metadata": {
    "scrolled": false
   },
   "outputs": [],
   "source": [
    "for chk_grad in tf.gradients(reference_qvalues, agent.weights):\n",
    "    error_msg = \"Reference q-values should have no gradient w.r.t. agent weights. Make sure you used target_network qvalues! \"\n",
    "    error_msg += \"If you know what you're doing, ignore this assert.\"\n",
    "    assert chk_grad is None or np.allclose(sess.run(chk_grad), sess.run(chk_grad * 0)), error_msg\n",
    "\n",
    "assert tf.gradients(reference_qvalues, is_not_done)[0] is not None, \"make sure you used is_not_done\"\n",
    "assert tf.gradients(reference_qvalues, rewards_ph)[0] is not None, \"make sure you used rewards\"\n",
    "assert tf.gradients(reference_qvalues, next_obs_ph)[0] is not None, \"make sure you used next states\"\n",
    "assert tf.gradients(reference_qvalues, obs_ph)[0] is None, \"reference qvalues shouldn't depend on current observation!\" # ignore if you're certain it's ok\n",
    "print(\"Splendid!\")"
   ]
  },
  {
   "cell_type": "markdown",
   "metadata": {},
   "source": [
    "### Main loop\n",
    "\n",
    "It's time to put everything together and see if it learns anything."
   ]
  },
  {
   "cell_type": "code",
   "execution_count": null,
   "metadata": {},
   "outputs": [],
   "source": [
    "from tqdm import trange\n",
    "from IPython.display import clear_output\n",
    "import matplotlib.pyplot as plt\n",
    "from pandas import DataFrame\n",
    "moving_average = lambda x, span, **kw: DataFrame({'x':np.asarray(x)}).x.ewm(span=span, **kw).mean().values\n",
    "%matplotlib inline\n",
    "\n",
    "mean_rw_history = []\n",
    "td_loss_history = []"
   ]
  },
  {
   "cell_type": "code",
   "execution_count": null,
   "metadata": {},
   "outputs": [],
   "source": [
    "exp_replay = ReplayBuffer(10**5)\n",
    "play_and_record(agent, env, exp_replay, n_steps=10000)\n",
    "\n",
    "def sample_batch(exp_replay, batch_size):\n",
    "    obs_batch, act_batch, reward_batch, next_obs_batch, is_done_batch = exp_replay.sample(batch_size)\n",
    "    return {\n",
    "        obs_ph:obs_batch, actions_ph:act_batch, rewards_ph:reward_batch, \n",
    "        next_obs_ph:next_obs_batch, is_done_ph:is_done_batch\n",
    "    }"
   ]
  },
  {
   "cell_type": "code",
   "execution_count": null,
   "metadata": {},
   "outputs": [],
   "source": [
    "data_dir = Path('data').absolute()\n",
    "if not data_dir.is_dir():\n",
    "    data_dir.mkdir(parents=True, exist_ok=True)\n",
    "    \n",
    "model_path = data_dir.joinpath('model.ckpt')\n",
    "mean_rw_history_path = data_dir.joinpath('mean_rw_history.pkl')\n",
    "td_loss_history_path = data_dir.joinpath('td_loss_history.pkl')\n",
    "epsilon_path = data_dir.joinpath('epsilon.pkl')\n",
    "exp_replay_path = data_dir.joinpath('replay_buffer.pkl')\n",
    "paths = [model_path, \n",
    "         mean_rw_history_path,\n",
    "         td_loss_history_path,\n",
    "         epsilon_path,\n",
    "         exp_replay_path]"
   ]
  },
  {
   "cell_type": "code",
   "execution_count": null,
   "metadata": {},
   "outputs": [],
   "source": [
    "def plot_progress(mean_rw_history, td_loss_history):\n",
    "    \"\"\"\n",
    "    Plots the progress\n",
    "    \n",
    "    Parameters\n",
    "    ----------\n",
    "    mean_rw_history : list\n",
    "        List of the mean reward\n",
    "    td_loss_history : list\n",
    "        List of the TD loss\n",
    "    \"\"\"\n",
    "        \n",
    "    plt.figure(figsize=[48, 4])\n",
    "    plt.subplot(1,2,1)\n",
    "    plt.title(\"mean reward per game\")\n",
    "    plt.plot(mean_rw_history)\n",
    "    plt.grid()\n",
    "    \n",
    "    plt.figure(figsize=[48, 4])\n",
    "    plt.subplot(1,2,2)\n",
    "    plt.title(\"TD loss history (moving average)\")\n",
    "    plt.plot(moving_average(np.array(td_loss_history), span=100, min_periods=100))\n",
    "    plt.grid()\n",
    "    plt.show()"
   ]
  },
  {
   "cell_type": "code",
   "execution_count": null,
   "metadata": {},
   "outputs": [],
   "source": [
    "def save_variables(sess, paths, variables):\n",
    "    \"\"\"\n",
    "    Save the variables\n",
    "    \n",
    "    Parameters\n",
    "    ----------\n",
    "    sess : tf.Session\n",
    "        The current session\n",
    "    paths : list\n",
    "        The paths as either Path or str in the following order:\n",
    "        - model_path\n",
    "        - mean_rw_history_path\n",
    "        - td_loss_history_path\n",
    "        - epsilon_path\n",
    "        - exp_replay_path\n",
    "    variables : list\n",
    "        List of the variables in the following order:\n",
    "        - mean_rw_history\n",
    "        - td_loss_history\n",
    "        - agent (contains the epsilon)\n",
    "        - exp_replay\n",
    "    \"\"\"\n",
    "    \n",
    "    saver = tf.train.Saver()\n",
    "    \n",
    "    saver.save(sess, str(model_path))\n",
    "    print('Saved to {}'.format(model_path))\n",
    "    \n",
    "    with mean_rw_history_path.open('wb') as f:\n",
    "        pickle.dump(mean_rw_history, f, pickle.HIGHEST_PROTOCOL)\n",
    "        print('Saved to {}'.format(mean_rw_history_path))\n",
    "    \n",
    "    with td_loss_history_path.open('wb') as f:\n",
    "        pickle.dump(td_loss_history, f, pickle.HIGHEST_PROTOCOL)\n",
    "        print('Saved to {}'.format(td_loss_history_path))\n",
    "        \n",
    "    with epsilon_path.open('wb') as f:\n",
    "        pickle.dump(agent.epsilon, f, pickle.HIGHEST_PROTOCOL)\n",
    "        print('Saved to {}'.format(epsilon_path))\n",
    "    \n",
    "    with exp_replay_path.open('wb') as f:\n",
    "        pickle.dump(exp_replay, f, pickle.HIGHEST_PROTOCOL)\n",
    "        print('Saved to {}'.format(exp_replay_path))"
   ]
  },
  {
   "cell_type": "code",
   "execution_count": null,
   "metadata": {},
   "outputs": [],
   "source": [
    "def load_variables(sess, paths, agent):\n",
    "    \"\"\"\n",
    "    Save the variables\n",
    "    \n",
    "    Parameters\n",
    "    ----------\n",
    "    sess : tf.Session\n",
    "        The current session\n",
    "    paths : list\n",
    "        The paths as either Path or str in the following order:\n",
    "        - model_path\n",
    "        - mean_rw_history_path\n",
    "        - td_loss_history_path\n",
    "        - epsilon_path\n",
    "        - exp_replay_path\n",
    "    agent : DQNAgent\n",
    "        The agent where the epsilon resides\n",
    "        \n",
    "    Returns\n",
    "    -------\n",
    "    tuple\n",
    "        List of the variables in the following order:\n",
    "        - mean_rw_history\n",
    "        - td_loss_history\n",
    "        - agent (contains the epsilon)\n",
    "        - exp_replay\n",
    "    \"\"\"\n",
    "    \n",
    "    saver = tf.train.Saver()\n",
    "    \n",
    "    saver.restore(sess, str(model_path))\n",
    "    print('Loaded from {}'.format(model_path))\n",
    "    \n",
    "    with mean_rw_history_path.open('rb') as f:\n",
    "        mean_rw_history = pickle.load(f)\n",
    "        print('Loaded from {}'.format(mean_rw_history_path))\n",
    "        \n",
    "    with td_loss_history_path.open('rb') as f:\n",
    "        td_loss_history = pickle.load(f)\n",
    "        print('Loaded from {}'.format(td_loss_history_path))\n",
    "    \n",
    "    with epsilon_path.open('rb') as f:\n",
    "        agent.epsilon = pickle.load(f)\n",
    "        print('Loaded from {}'.format(epsilon_path))\n",
    "    \n",
    "    with exp_replay_path.open('rb') as f:\n",
    "        exp_replay = pickle.load(f)\n",
    "        print('Loaded from {}'.format(exp_replay_path))\n",
    "        \n",
    "    return (sess,\n",
    "            mean_rw_history,\n",
    "            td_loss_history,\n",
    "            agent,\n",
    "            exp_replay)"
   ]
  },
  {
   "cell_type": "code",
   "execution_count": null,
   "metadata": {
    "scrolled": false
   },
   "outputs": [],
   "source": [
    "if not model_path.is_file() and train_from_scratch:\n",
    "    for i in trange(10**6):\n",
    "        # Play\n",
    "        play_and_record(agent, env, exp_replay, 10, progressbar=False)\n",
    "        \n",
    "        # Train\n",
    "        # NOTE: Doubled the batch size\n",
    "        _, loss_t = sess.run([train_step, td_loss], sample_batch(exp_replay, batch_size=128))\n",
    "        td_loss_history.append(loss_t)\n",
    "        \n",
    "        # Adjust agent parameters\n",
    "        if i % 500 == 0:\n",
    "            # NOTE: Bugfix\n",
    "            copy_step = load_weights_into_target_network(agent, target_network) \n",
    "            sess.run(copy_step)\n",
    "    \n",
    "            agent.epsilon = max(agent.epsilon * 0.99, 0.01)\n",
    "            mean_rw_history.append(evaluate(make_env(), agent, n_games=3))\n",
    "            \n",
    "            if np.mean(mean_rw_history[-10:]) > 15:\n",
    "                print(\"That's good enough for tutorial.\")\n",
    "                break\n",
    "        \n",
    "        if i % 100 == 0:\n",
    "            clear_output(True)\n",
    "            print(\"buffer size = %i, epsilon = %.5f, mean reward = %.5f\" % (len(exp_replay), \n",
    "                                                                            agent.epsilon,\n",
    "                                                                            np.mean(mean_rw_history[-10:])))\n",
    "            assert not np.isnan(loss_t)\n",
    "            plot_progress(mean_rw_history, td_loss_history)\n",
    "    \n",
    "    variables = [mean_rw_history,\n",
    "                 td_loss_history,\n",
    "                 agent,\n",
    "                 exp_replay]\n",
    "    \n",
    "    save_variables(sess, paths, variables)\n",
    "            \n",
    "else:\n",
    "    sess, mean_rw_history, td_loss_history, agent, exp_replay = \\\n",
    "        load_variables(sess, paths, agent)\n",
    "    print(\"buffer size = %i, epsilon = %.5f, mean reward = %.5f\" % (len(exp_replay), \n",
    "                                                                    agent.epsilon,\n",
    "                                                                    np.mean(mean_rw_history[-10:])))\n",
    "    plot_progress(mean_rw_history, td_loss_history)"
   ]
  },
  {
   "cell_type": "markdown",
   "metadata": {},
   "source": [
    "__ How to interpret plots: __\n",
    "\n",
    "\n",
    "This aint no supervised learning so don't expect anything to improve monotonously. \n",
    "* __ TD loss __ is the MSE between agent's current Q-values and target Q-values. It may slowly increase or decrease, it's ok. The \"not ok\" behavior includes going NaN or stayng at exactly zero before agent has perfect performance.\n",
    "* __ mean reward__ is the expected sum of r(s,a) agent gets over the full game session. It will oscillate, but on average it should get higher over time (after a few thousand iterations...). \n",
    " * In basic q-learning implementation it takes 5-10k steps to \"warm up\" agent before it starts to get better.\n",
    "* __ buffer size__ - this one is simple. It should go up and cap at max size.\n",
    "* __ epsilon__ - agent's willingness to explore. If you see that agent's already at 0.01 epsilon before it's average reward is above 0 - __ it means you need to increase epsilon__. Set it back to some 0.2 - 0.5 and decrease the pace at which it goes down.\n",
    "* Also please ignore first 100-200 steps of each plot - they're just oscillations because of the way moving average works.\n",
    "\n",
    "At first your agent will lose quickly. Then it will learn to suck less and at least hit the ball a few times before it loses. Finally it will learn to actually score points.\n",
    "\n",
    "__Training will take time.__ A lot of it actually. An optimistic estimate is to say it's gonna start winning (average reward > 10) after 10k steps. \n",
    "\n",
    "But hey, look on the bright side of things:\n",
    "\n",
    "![img](https://github.com/yandexdataschool/Practical_RL/raw/master/yet_another_week/_resource/training.png)"
   ]
  },
  {
   "cell_type": "markdown",
   "metadata": {},
   "source": [
    "### Video"
   ]
  },
  {
   "cell_type": "code",
   "execution_count": null,
   "metadata": {},
   "outputs": [],
   "source": [
    "# NOTE: With epsilon 0 the same thing will happen every time\n",
    "#       https://www.coursera.org/learn/practical-rl/programming/upglq/dqn-breakout/discussions/threads/Q7G2OoOxEeiUgAo3aYsv-A\n",
    "agent.epsilon = 0 # Don't forget to reset epsilon back to previous value if you want to go on training"
   ]
  },
  {
   "cell_type": "code",
   "execution_count": null,
   "metadata": {
    "scrolled": true
   },
   "outputs": [],
   "source": [
    "# Record sessions\n",
    "# NOTE: Explaination of monitor\n",
    "#       https://hub.packtpub.com/openai-gym-environments-wrappers-and-monitors-tutorial/\n",
    "import gym.wrappers\n",
    "env_monitor = gym.wrappers.Monitor(make_env(), directory=\"videos\", force=True)\n",
    "# NOTE: As we use epsilon 0 and a deterministic environment, the same thing will happen over and over again. \n",
    "#       Hence we will just be needing 1 example\n",
    "sessions = [evaluate(env_monitor, agent, n_games=1) for _ in tqdm_notebook(range(1))]\n",
    "env_monitor.close()"
   ]
  },
  {
   "cell_type": "code",
   "execution_count": null,
   "metadata": {},
   "outputs": [],
   "source": [
    "# Show video\n",
    "from IPython.display import HTML\n",
    "import os\n",
    "\n",
    "video_names = list(filter(lambda s:s.endswith(\".mp4\"),os.listdir(\"./videos/\")))\n",
    "\n",
    "HTML(\"\"\"\n",
    "<video width=\"640\" height=\"480\" controls>\n",
    "  <source src=\"{}\" type=\"video/mp4\">\n",
    "</video>\n",
    "\"\"\".format(\"./videos/\"+video_names[-1])) #this may or may not be _last_ video. Try other indices"
   ]
  },
  {
   "cell_type": "markdown",
   "metadata": {},
   "source": [
    "## More\n",
    "\n",
    "If you want to play with DQN a bit more, here's a list of things you can try with it:\n",
    "\n",
    "### Easy:\n",
    "* Implementing __double q-learning__ shouldn't be a problem if you've already have target networks in place.\n",
    "  * You will probably need `tf.argmax` to select best actions\n",
    "  * Here's an original [article](https://arxiv.org/abs/1509.06461)\n",
    "\n",
    "* __Dueling__ architecture is also quite straightforward if you have standard DQN.\n",
    "  * You will need to change network architecture, namely the q-values layer\n",
    "  * It must now contain two heads: V(s) and A(s,a), both dense layers\n",
    "  * You should then add them up via elemwise sum layer.\n",
    "  * Here's an [article](https://arxiv.org/pdf/1511.06581.pdf)"
   ]
  },
  {
   "cell_type": "markdown",
   "metadata": {},
   "source": [
    "### Hard: Prioritized experience replay\n",
    "\n",
    "In this section, you're invited to implement prioritized experience replay\n",
    "\n",
    "* You will probably need to provide a custom data structure\n",
    "* Once pool.update is called, collect the pool.experience_replay.observations, actions, rewards and is_alive and store them in your data structure\n",
    "* You can now sample such transitions in proportion to the error (see [article](https://arxiv.org/abs/1511.05952)) for training.\n",
    "\n",
    "It's probably more convenient to explicitly declare inputs for \"sample observations\", \"sample actions\" and so on to plug them into q-learning.\n",
    "\n",
    "Prioritized (and even normal) experience replay should greatly reduce amount of game sessions you need to play in order to achieve good performance. \n",
    "\n",
    "While it's effect on runtime is limited for atari, more complicated envs (further in the course) will certainly benefit for it.\n",
    "\n",
    "There is even more out there - see this [overview article](https://arxiv.org/abs/1710.02298)."
   ]
  },
  {
   "cell_type": "code",
   "execution_count": null,
   "metadata": {},
   "outputs": [],
   "source": [
    "session_rewards = np.array(sessions)"
   ]
  },
  {
   "cell_type": "code",
   "execution_count": null,
   "metadata": {},
   "outputs": [],
   "source": [
    "from submit import submit_breakout\n",
    "EMAIL = ''\n",
    "TOKEN = ''\n",
    "\n",
    "submit_breakout(session_rewards, EMAIL, TOKEN)"
   ]
  }
 ],
 "metadata": {
  "anaconda-cloud": {},
  "kernelspec": {
   "display_name": "Python 3",
   "language": "python",
   "name": "python3"
  },
  "language_info": {
   "codemirror_mode": {
    "name": "ipython",
    "version": 3
   },
   "file_extension": ".py",
   "mimetype": "text/x-python",
   "name": "python",
   "nbconvert_exporter": "python",
   "pygments_lexer": "ipython3",
   "version": "3.5.2"
  }
 },
 "nbformat": 4,
 "nbformat_minor": 1
}
